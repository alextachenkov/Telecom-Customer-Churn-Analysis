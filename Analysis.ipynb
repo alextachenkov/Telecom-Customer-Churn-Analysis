{
 "cells": [
  {
   "cell_type": "markdown",
   "id": "619c0435",
   "metadata": {},
   "source": [
    "# TELECOM CUSTOMER CHURN ANALYSIS"
   ]
  },
  {
   "cell_type": "markdown",
   "id": "c2531d8a",
   "metadata": {},
   "source": [
    "**1. Импорт библиотек**"
   ]
  },
  {
   "cell_type": "code",
   "execution_count": 136,
   "id": "f86e902f",
   "metadata": {},
   "outputs": [],
   "source": [
    "import pandas as pd\n",
    "import numpy as np\n",
    "import matplotlib.pyplot as plt\n",
    "import seaborn as sns\n",
    "%matplotlib inline"
   ]
  },
  {
   "cell_type": "markdown",
   "id": "5283209f",
   "metadata": {},
   "source": [
    "**2. Чтение данных**"
   ]
  },
  {
   "cell_type": "code",
   "execution_count": 137,
   "id": "7a43a95e",
   "metadata": {},
   "outputs": [
    {
     "data": {
      "text/html": [
       "<div>\n",
       "<style scoped>\n",
       "    .dataframe tbody tr th:only-of-type {\n",
       "        vertical-align: middle;\n",
       "    }\n",
       "\n",
       "    .dataframe tbody tr th {\n",
       "        vertical-align: top;\n",
       "    }\n",
       "\n",
       "    .dataframe thead th {\n",
       "        text-align: right;\n",
       "    }\n",
       "</style>\n",
       "<table border=\"1\" class=\"dataframe\">\n",
       "  <thead>\n",
       "    <tr style=\"text-align: right;\">\n",
       "      <th></th>\n",
       "      <th>Customer ID</th>\n",
       "      <th>Gender</th>\n",
       "      <th>Age</th>\n",
       "      <th>Married</th>\n",
       "      <th>Number of Dependents</th>\n",
       "      <th>City</th>\n",
       "      <th>Zip Code</th>\n",
       "      <th>Latitude</th>\n",
       "      <th>Longitude</th>\n",
       "      <th>Number of Referrals</th>\n",
       "      <th>...</th>\n",
       "      <th>Payment Method</th>\n",
       "      <th>Monthly Charge</th>\n",
       "      <th>Total Charges</th>\n",
       "      <th>Total Refunds</th>\n",
       "      <th>Total Extra Data Charges</th>\n",
       "      <th>Total Long Distance Charges</th>\n",
       "      <th>Total Revenue</th>\n",
       "      <th>Customer Status</th>\n",
       "      <th>Churn Category</th>\n",
       "      <th>Churn Reason</th>\n",
       "    </tr>\n",
       "  </thead>\n",
       "  <tbody>\n",
       "    <tr>\n",
       "      <th>0</th>\n",
       "      <td>0002-ORFBO</td>\n",
       "      <td>Female</td>\n",
       "      <td>37</td>\n",
       "      <td>Yes</td>\n",
       "      <td>0</td>\n",
       "      <td>Frazier Park</td>\n",
       "      <td>93225</td>\n",
       "      <td>34.827662</td>\n",
       "      <td>-118.999073</td>\n",
       "      <td>2</td>\n",
       "      <td>...</td>\n",
       "      <td>Credit Card</td>\n",
       "      <td>65.6</td>\n",
       "      <td>593.30</td>\n",
       "      <td>0.00</td>\n",
       "      <td>0</td>\n",
       "      <td>381.51</td>\n",
       "      <td>974.81</td>\n",
       "      <td>Stayed</td>\n",
       "      <td>NaN</td>\n",
       "      <td>NaN</td>\n",
       "    </tr>\n",
       "    <tr>\n",
       "      <th>1</th>\n",
       "      <td>0003-MKNFE</td>\n",
       "      <td>Male</td>\n",
       "      <td>46</td>\n",
       "      <td>No</td>\n",
       "      <td>0</td>\n",
       "      <td>Glendale</td>\n",
       "      <td>91206</td>\n",
       "      <td>34.162515</td>\n",
       "      <td>-118.203869</td>\n",
       "      <td>0</td>\n",
       "      <td>...</td>\n",
       "      <td>Credit Card</td>\n",
       "      <td>-4.0</td>\n",
       "      <td>542.40</td>\n",
       "      <td>38.33</td>\n",
       "      <td>10</td>\n",
       "      <td>96.21</td>\n",
       "      <td>610.28</td>\n",
       "      <td>Stayed</td>\n",
       "      <td>NaN</td>\n",
       "      <td>NaN</td>\n",
       "    </tr>\n",
       "    <tr>\n",
       "      <th>2</th>\n",
       "      <td>0004-TLHLJ</td>\n",
       "      <td>Male</td>\n",
       "      <td>50</td>\n",
       "      <td>No</td>\n",
       "      <td>0</td>\n",
       "      <td>Costa Mesa</td>\n",
       "      <td>92627</td>\n",
       "      <td>33.645672</td>\n",
       "      <td>-117.922613</td>\n",
       "      <td>0</td>\n",
       "      <td>...</td>\n",
       "      <td>Bank Withdrawal</td>\n",
       "      <td>73.9</td>\n",
       "      <td>280.85</td>\n",
       "      <td>0.00</td>\n",
       "      <td>0</td>\n",
       "      <td>134.60</td>\n",
       "      <td>415.45</td>\n",
       "      <td>Churned</td>\n",
       "      <td>Competitor</td>\n",
       "      <td>Competitor had better devices</td>\n",
       "    </tr>\n",
       "    <tr>\n",
       "      <th>3</th>\n",
       "      <td>0011-IGKFF</td>\n",
       "      <td>Male</td>\n",
       "      <td>78</td>\n",
       "      <td>Yes</td>\n",
       "      <td>0</td>\n",
       "      <td>Martinez</td>\n",
       "      <td>94553</td>\n",
       "      <td>38.014457</td>\n",
       "      <td>-122.115432</td>\n",
       "      <td>1</td>\n",
       "      <td>...</td>\n",
       "      <td>Bank Withdrawal</td>\n",
       "      <td>98.0</td>\n",
       "      <td>1237.85</td>\n",
       "      <td>0.00</td>\n",
       "      <td>0</td>\n",
       "      <td>361.66</td>\n",
       "      <td>1599.51</td>\n",
       "      <td>Churned</td>\n",
       "      <td>Dissatisfaction</td>\n",
       "      <td>Product dissatisfaction</td>\n",
       "    </tr>\n",
       "    <tr>\n",
       "      <th>4</th>\n",
       "      <td>0013-EXCHZ</td>\n",
       "      <td>Female</td>\n",
       "      <td>75</td>\n",
       "      <td>Yes</td>\n",
       "      <td>0</td>\n",
       "      <td>Camarillo</td>\n",
       "      <td>93010</td>\n",
       "      <td>34.227846</td>\n",
       "      <td>-119.079903</td>\n",
       "      <td>3</td>\n",
       "      <td>...</td>\n",
       "      <td>Credit Card</td>\n",
       "      <td>83.9</td>\n",
       "      <td>267.40</td>\n",
       "      <td>0.00</td>\n",
       "      <td>0</td>\n",
       "      <td>22.14</td>\n",
       "      <td>289.54</td>\n",
       "      <td>Churned</td>\n",
       "      <td>Dissatisfaction</td>\n",
       "      <td>Network reliability</td>\n",
       "    </tr>\n",
       "  </tbody>\n",
       "</table>\n",
       "<p>5 rows × 38 columns</p>\n",
       "</div>"
      ],
      "text/plain": [
       "  Customer ID  Gender  Age Married  Number of Dependents          City  \\\n",
       "0  0002-ORFBO  Female   37     Yes                     0  Frazier Park   \n",
       "1  0003-MKNFE    Male   46      No                     0      Glendale   \n",
       "2  0004-TLHLJ    Male   50      No                     0    Costa Mesa   \n",
       "3  0011-IGKFF    Male   78     Yes                     0      Martinez   \n",
       "4  0013-EXCHZ  Female   75     Yes                     0     Camarillo   \n",
       "\n",
       "   Zip Code   Latitude   Longitude  Number of Referrals  ...   Payment Method  \\\n",
       "0     93225  34.827662 -118.999073                    2  ...      Credit Card   \n",
       "1     91206  34.162515 -118.203869                    0  ...      Credit Card   \n",
       "2     92627  33.645672 -117.922613                    0  ...  Bank Withdrawal   \n",
       "3     94553  38.014457 -122.115432                    1  ...  Bank Withdrawal   \n",
       "4     93010  34.227846 -119.079903                    3  ...      Credit Card   \n",
       "\n",
       "  Monthly Charge Total Charges  Total Refunds Total Extra Data Charges  \\\n",
       "0           65.6        593.30           0.00                        0   \n",
       "1           -4.0        542.40          38.33                       10   \n",
       "2           73.9        280.85           0.00                        0   \n",
       "3           98.0       1237.85           0.00                        0   \n",
       "4           83.9        267.40           0.00                        0   \n",
       "\n",
       "  Total Long Distance Charges Total Revenue  Customer Status   Churn Category  \\\n",
       "0                      381.51        974.81           Stayed              NaN   \n",
       "1                       96.21        610.28           Stayed              NaN   \n",
       "2                      134.60        415.45          Churned       Competitor   \n",
       "3                      361.66       1599.51          Churned  Dissatisfaction   \n",
       "4                       22.14        289.54          Churned  Dissatisfaction   \n",
       "\n",
       "                    Churn Reason  \n",
       "0                            NaN  \n",
       "1                            NaN  \n",
       "2  Competitor had better devices  \n",
       "3        Product dissatisfaction  \n",
       "4            Network reliability  \n",
       "\n",
       "[5 rows x 38 columns]"
      ]
     },
     "execution_count": 137,
     "metadata": {},
     "output_type": "execute_result"
    }
   ],
   "source": [
    "churn_df = pd.read_csv('telecom_customer_churn.csv')\n",
    "churn_df.head()"
   ]
  },
  {
   "cell_type": "markdown",
   "id": "c43ea9f7",
   "metadata": {},
   "source": [
    " "
   ]
  },
  {
   "cell_type": "markdown",
   "id": "2c9819db",
   "metadata": {},
   "source": [
    "**3. Проверка данных**"
   ]
  },
  {
   "cell_type": "code",
   "execution_count": 138,
   "id": "58632b6e",
   "metadata": {},
   "outputs": [
    {
     "data": {
      "text/plain": [
       "(7043, 38)"
      ]
     },
     "execution_count": 138,
     "metadata": {},
     "output_type": "execute_result"
    }
   ],
   "source": [
    "churn_df.shape"
   ]
  },
  {
   "cell_type": "code",
   "execution_count": 139,
   "id": "f113b3d8",
   "metadata": {},
   "outputs": [
    {
     "data": {
      "text/plain": [
       "Customer ID                             0\n",
       "Gender                                  0\n",
       "Age                                     0\n",
       "Married                                 0\n",
       "Number of Dependents                    0\n",
       "City                                    0\n",
       "Zip Code                                0\n",
       "Latitude                                0\n",
       "Longitude                               0\n",
       "Number of Referrals                     0\n",
       "Tenure in Months                        0\n",
       "Offer                                   0\n",
       "Phone Service                           0\n",
       "Avg Monthly Long Distance Charges     682\n",
       "Multiple Lines                        682\n",
       "Internet Service                        0\n",
       "Internet Type                        1526\n",
       "Avg Monthly GB Download              1526\n",
       "Online Security                      1526\n",
       "Online Backup                        1526\n",
       "Device Protection Plan               1526\n",
       "Premium Tech Support                 1526\n",
       "Streaming TV                         1526\n",
       "Streaming Movies                     1526\n",
       "Streaming Music                      1526\n",
       "Unlimited Data                       1526\n",
       "Contract                                0\n",
       "Paperless Billing                       0\n",
       "Payment Method                          0\n",
       "Monthly Charge                          0\n",
       "Total Charges                           0\n",
       "Total Refunds                           0\n",
       "Total Extra Data Charges                0\n",
       "Total Long Distance Charges             0\n",
       "Total Revenue                           0\n",
       "Customer Status                         0\n",
       "Churn Category                       5174\n",
       "Churn Reason                         5174\n",
       "dtype: int64"
      ]
     },
     "execution_count": 139,
     "metadata": {},
     "output_type": "execute_result"
    }
   ],
   "source": [
    "churn_df.isna().sum()"
   ]
  },
  {
   "cell_type": "code",
   "execution_count": 141,
   "id": "8e6807fc",
   "metadata": {},
   "outputs": [
    {
     "data": {
      "text/html": [
       "<div>\n",
       "<style scoped>\n",
       "    .dataframe tbody tr th:only-of-type {\n",
       "        vertical-align: middle;\n",
       "    }\n",
       "\n",
       "    .dataframe tbody tr th {\n",
       "        vertical-align: top;\n",
       "    }\n",
       "\n",
       "    .dataframe thead th {\n",
       "        text-align: right;\n",
       "    }\n",
       "</style>\n",
       "<table border=\"1\" class=\"dataframe\">\n",
       "  <thead>\n",
       "    <tr style=\"text-align: right;\">\n",
       "      <th></th>\n",
       "      <th>Avg Monthly Long Distance Charges</th>\n",
       "      <th>Multiple Lines</th>\n",
       "    </tr>\n",
       "  </thead>\n",
       "  <tbody>\n",
       "    <tr>\n",
       "      <th>0</th>\n",
       "      <td>42.39</td>\n",
       "      <td>No</td>\n",
       "    </tr>\n",
       "    <tr>\n",
       "      <th>1</th>\n",
       "      <td>10.69</td>\n",
       "      <td>Yes</td>\n",
       "    </tr>\n",
       "    <tr>\n",
       "      <th>2</th>\n",
       "      <td>33.65</td>\n",
       "      <td>No</td>\n",
       "    </tr>\n",
       "    <tr>\n",
       "      <th>3</th>\n",
       "      <td>27.82</td>\n",
       "      <td>No</td>\n",
       "    </tr>\n",
       "    <tr>\n",
       "      <th>4</th>\n",
       "      <td>7.38</td>\n",
       "      <td>No</td>\n",
       "    </tr>\n",
       "    <tr>\n",
       "      <th>...</th>\n",
       "      <td>...</td>\n",
       "      <td>...</td>\n",
       "    </tr>\n",
       "    <tr>\n",
       "      <th>7038</th>\n",
       "      <td>46.68</td>\n",
       "      <td>No</td>\n",
       "    </tr>\n",
       "    <tr>\n",
       "      <th>7039</th>\n",
       "      <td>16.20</td>\n",
       "      <td>Yes</td>\n",
       "    </tr>\n",
       "    <tr>\n",
       "      <th>7040</th>\n",
       "      <td>18.62</td>\n",
       "      <td>No</td>\n",
       "    </tr>\n",
       "    <tr>\n",
       "      <th>7041</th>\n",
       "      <td>2.12</td>\n",
       "      <td>No</td>\n",
       "    </tr>\n",
       "    <tr>\n",
       "      <th>7042</th>\n",
       "      <td>NaN</td>\n",
       "      <td>NaN</td>\n",
       "    </tr>\n",
       "  </tbody>\n",
       "</table>\n",
       "<p>7043 rows × 2 columns</p>\n",
       "</div>"
      ],
      "text/plain": [
       "      Avg Monthly Long Distance Charges Multiple Lines\n",
       "0                                 42.39             No\n",
       "1                                 10.69            Yes\n",
       "2                                 33.65             No\n",
       "3                                 27.82             No\n",
       "4                                  7.38             No\n",
       "...                                 ...            ...\n",
       "7038                              46.68             No\n",
       "7039                              16.20            Yes\n",
       "7040                              18.62             No\n",
       "7041                               2.12             No\n",
       "7042                                NaN            NaN\n",
       "\n",
       "[7043 rows x 2 columns]"
      ]
     },
     "execution_count": 141,
     "metadata": {},
     "output_type": "execute_result"
    }
   ],
   "source": [
    "churn_df[['Avg Monthly Long Distance Charges', 'Multiple Lines']]"
   ]
  },
  {
   "cell_type": "markdown",
   "id": "e5d778b1",
   "metadata": {},
   "source": [
    "Из описания данных колонок:\n",
    "\n",
    "**Avg Monthly Long Distance Charges** - Indicates the customer’s average long distance charges, calculated to the end of the quarter specified above (if the customer is not subscribed to home phone service, this will be 0);\n",
    "\n",
    "**Multiple Lines** - Indicates if the customer subscribes to multiple telephone lines with the company: Yes, No (if the customer is not subscribed to home phone service, this will be No)\n",
    "\n",
    "Данные колонки связаны друг с другом. Можно было бы считать, что пустые значения в *Multiple Lines* равны *No*. Но по значениям *No* в колонке *Avg Monthly Long Distance Charges* есть значения.\n",
    "\n",
    "Поэтому пока оставим пустые значения, как есть. Если в дальнейшем нам потребуется работать с этими ячейками, примем решения, на что их заменить."
   ]
  },
  {
   "cell_type": "markdown",
   "id": "7f97e933",
   "metadata": {},
   "source": [
    " "
   ]
  },
  {
   "cell_type": "markdown",
   "id": "9073f809",
   "metadata": {},
   "source": [
    "Пустые значения в колонках интернет показателей также оставим, как есть.\n",
    "Колонки *Churn Category* и *Churn Reason* рассмотрим чуть позже. Пока ориентируемся на колонку *Customer Status*, в которой есть значение *Churned*."
   ]
  },
  {
   "cell_type": "markdown",
   "id": "701aa4e4",
   "metadata": {},
   "source": [
    " "
   ]
  },
  {
   "cell_type": "code",
   "execution_count": 142,
   "id": "77b89137",
   "metadata": {},
   "outputs": [
    {
     "data": {
      "text/plain": [
       "Customer ID                           object\n",
       "Gender                                object\n",
       "Age                                    int64\n",
       "Married                               object\n",
       "Number of Dependents                   int64\n",
       "City                                  object\n",
       "Zip Code                               int64\n",
       "Latitude                             float64\n",
       "Longitude                            float64\n",
       "Number of Referrals                    int64\n",
       "Tenure in Months                       int64\n",
       "Offer                                 object\n",
       "Phone Service                         object\n",
       "Avg Monthly Long Distance Charges    float64\n",
       "Multiple Lines                        object\n",
       "Internet Service                      object\n",
       "Internet Type                         object\n",
       "Avg Monthly GB Download              float64\n",
       "Online Security                       object\n",
       "Online Backup                         object\n",
       "Device Protection Plan                object\n",
       "Premium Tech Support                  object\n",
       "Streaming TV                          object\n",
       "Streaming Movies                      object\n",
       "Streaming Music                       object\n",
       "Unlimited Data                        object\n",
       "Contract                              object\n",
       "Paperless Billing                     object\n",
       "Payment Method                        object\n",
       "Monthly Charge                       float64\n",
       "Total Charges                        float64\n",
       "Total Refunds                        float64\n",
       "Total Extra Data Charges               int64\n",
       "Total Long Distance Charges          float64\n",
       "Total Revenue                        float64\n",
       "Customer Status                       object\n",
       "Churn Category                        object\n",
       "Churn Reason                          object\n",
       "dtype: object"
      ]
     },
     "execution_count": 142,
     "metadata": {},
     "output_type": "execute_result"
    }
   ],
   "source": [
    "churn_df.dtypes"
   ]
  },
  {
   "cell_type": "markdown",
   "id": "ba6ac569",
   "metadata": {},
   "source": [
    "С типами данных все в порядке, оставляем как есть."
   ]
  },
  {
   "cell_type": "markdown",
   "id": "46fea173",
   "metadata": {},
   "source": [
    " "
   ]
  },
  {
   "cell_type": "markdown",
   "id": "7c14f7aa",
   "metadata": {},
   "source": [
    "**4. Анализ данных**"
   ]
  },
  {
   "cell_type": "markdown",
   "id": "873d9b92",
   "metadata": {},
   "source": [
    "Для начала посмотрим, как пользователи распределены по статусам:"
   ]
  },
  {
   "cell_type": "code",
   "execution_count": 143,
   "id": "9873f0d3",
   "metadata": {},
   "outputs": [
    {
     "data": {
      "text/html": [
       "<div>\n",
       "<style scoped>\n",
       "    .dataframe tbody tr th:only-of-type {\n",
       "        vertical-align: middle;\n",
       "    }\n",
       "\n",
       "    .dataframe tbody tr th {\n",
       "        vertical-align: top;\n",
       "    }\n",
       "\n",
       "    .dataframe thead th {\n",
       "        text-align: right;\n",
       "    }\n",
       "</style>\n",
       "<table border=\"1\" class=\"dataframe\">\n",
       "  <thead>\n",
       "    <tr style=\"text-align: right;\">\n",
       "      <th></th>\n",
       "      <th>Customers</th>\n",
       "    </tr>\n",
       "    <tr>\n",
       "      <th>Customer Status</th>\n",
       "      <th></th>\n",
       "    </tr>\n",
       "  </thead>\n",
       "  <tbody>\n",
       "    <tr>\n",
       "      <th>Churned</th>\n",
       "      <td>1869</td>\n",
       "    </tr>\n",
       "    <tr>\n",
       "      <th>Joined</th>\n",
       "      <td>454</td>\n",
       "    </tr>\n",
       "    <tr>\n",
       "      <th>Stayed</th>\n",
       "      <td>4720</td>\n",
       "    </tr>\n",
       "  </tbody>\n",
       "</table>\n",
       "</div>"
      ],
      "text/plain": [
       "                 Customers\n",
       "Customer Status           \n",
       "Churned               1869\n",
       "Joined                 454\n",
       "Stayed                4720"
      ]
     },
     "execution_count": 143,
     "metadata": {},
     "output_type": "execute_result"
    }
   ],
   "source": [
    "churn_df \\\n",
    "    .groupby('Customer Status') \\\n",
    "    .agg({'Customer ID': 'count'}) \\\n",
    "    .rename(columns={'Customer ID': 'Customers'})"
   ]
  },
  {
   "cell_type": "markdown",
   "id": "643709eb",
   "metadata": {},
   "source": [
    " "
   ]
  },
  {
   "cell_type": "markdown",
   "id": "b4542dbf",
   "metadata": {},
   "source": [
    "Попробуем оценить профиль средего клиента в каждой категории:"
   ]
  },
  {
   "cell_type": "markdown",
   "id": "843b3595",
   "metadata": {},
   "source": [
    "1) Пол клиента"
   ]
  },
  {
   "cell_type": "code",
   "execution_count": 144,
   "id": "bea0a5e7",
   "metadata": {},
   "outputs": [
    {
     "data": {
      "text/html": [
       "<div>\n",
       "<style scoped>\n",
       "    .dataframe tbody tr th:only-of-type {\n",
       "        vertical-align: middle;\n",
       "    }\n",
       "\n",
       "    .dataframe tbody tr th {\n",
       "        vertical-align: top;\n",
       "    }\n",
       "\n",
       "    .dataframe thead th {\n",
       "        text-align: right;\n",
       "    }\n",
       "</style>\n",
       "<table border=\"1\" class=\"dataframe\">\n",
       "  <thead>\n",
       "    <tr style=\"text-align: right;\">\n",
       "      <th>Gender</th>\n",
       "      <th>Customer Status</th>\n",
       "      <th>Female</th>\n",
       "      <th>Male</th>\n",
       "    </tr>\n",
       "  </thead>\n",
       "  <tbody>\n",
       "    <tr>\n",
       "      <th>0</th>\n",
       "      <td>Churned</td>\n",
       "      <td>939</td>\n",
       "      <td>930</td>\n",
       "    </tr>\n",
       "    <tr>\n",
       "      <th>1</th>\n",
       "      <td>Joined</td>\n",
       "      <td>211</td>\n",
       "      <td>243</td>\n",
       "    </tr>\n",
       "    <tr>\n",
       "      <th>2</th>\n",
       "      <td>Stayed</td>\n",
       "      <td>2338</td>\n",
       "      <td>2382</td>\n",
       "    </tr>\n",
       "  </tbody>\n",
       "</table>\n",
       "</div>"
      ],
      "text/plain": [
       "Gender Customer Status  Female  Male\n",
       "0              Churned     939   930\n",
       "1               Joined     211   243\n",
       "2               Stayed    2338  2382"
      ]
     },
     "execution_count": 144,
     "metadata": {},
     "output_type": "execute_result"
    }
   ],
   "source": [
    "churn_df \\\n",
    "    .groupby(['Customer Status', 'Gender']) \\\n",
    "    .agg({'Gender': 'count'}) \\\n",
    "    .rename(columns={'Gender': 'Customers'}) \\\n",
    "    .reset_index() \\\n",
    "    .pivot(index='Customer Status', columns='Gender', values='Customers') \\\n",
    "    .reset_index()"
   ]
  },
  {
   "cell_type": "markdown",
   "id": "51e44d3a",
   "metadata": {},
   "source": [
    "Здесь без дополнительных расчетов видно, что все категории делятся по полу примерно 50/50."
   ]
  },
  {
   "cell_type": "markdown",
   "id": "6b7ca244",
   "metadata": {},
   "source": [
    " "
   ]
  },
  {
   "cell_type": "markdown",
   "id": "c6d42a22",
   "metadata": {},
   "source": [
    "2) Возраст клиента"
   ]
  },
  {
   "cell_type": "code",
   "execution_count": 145,
   "id": "3e33c039",
   "metadata": {},
   "outputs": [
    {
     "data": {
      "text/html": [
       "<div>\n",
       "<style scoped>\n",
       "    .dataframe tbody tr th:only-of-type {\n",
       "        vertical-align: middle;\n",
       "    }\n",
       "\n",
       "    .dataframe tbody tr th {\n",
       "        vertical-align: top;\n",
       "    }\n",
       "\n",
       "    .dataframe thead th {\n",
       "        text-align: right;\n",
       "    }\n",
       "</style>\n",
       "<table border=\"1\" class=\"dataframe\">\n",
       "  <thead>\n",
       "    <tr style=\"text-align: right;\">\n",
       "      <th></th>\n",
       "      <th>Customer Status</th>\n",
       "      <th>Average_age</th>\n",
       "    </tr>\n",
       "  </thead>\n",
       "  <tbody>\n",
       "    <tr>\n",
       "      <th>0</th>\n",
       "      <td>Churned</td>\n",
       "      <td>49.7</td>\n",
       "    </tr>\n",
       "    <tr>\n",
       "      <th>1</th>\n",
       "      <td>Joined</td>\n",
       "      <td>42.9</td>\n",
       "    </tr>\n",
       "    <tr>\n",
       "      <th>2</th>\n",
       "      <td>Stayed</td>\n",
       "      <td>45.6</td>\n",
       "    </tr>\n",
       "  </tbody>\n",
       "</table>\n",
       "</div>"
      ],
      "text/plain": [
       "  Customer Status  Average_age\n",
       "0         Churned         49.7\n",
       "1          Joined         42.9\n",
       "2          Stayed         45.6"
      ]
     },
     "execution_count": 145,
     "metadata": {},
     "output_type": "execute_result"
    }
   ],
   "source": [
    "customer_status_by_age_df = churn_df \\\n",
    "    .groupby('Customer Status', as_index=False) \\\n",
    "    .agg({'Age': 'mean'}) \\\n",
    "    .rename(columns={'Age': 'Average_age'}) \\\n",
    "    .round({'Average_age': 1})\n",
    "\n",
    "customer_status_by_age_df"
   ]
  },
  {
   "cell_type": "markdown",
   "id": "3a6707c0",
   "metadata": {},
   "source": [
    "Видно, что средние значения различаются.\n",
    "Cтатитическую значимость проверять пока не будем, т.к. маловероятно, что уход пользователей связан с возрастом.\n",
    "Это будет иметь смысл проверить, если не найдем других инсайтов."
   ]
  },
  {
   "cell_type": "code",
   "execution_count": 146,
   "id": "ba367380",
   "metadata": {},
   "outputs": [
    {
     "data": {
      "text/plain": [
       "<seaborn.axisgrid.FacetGrid at 0x1c86a29d180>"
      ]
     },
     "execution_count": 146,
     "metadata": {},
     "output_type": "execute_result"
    },
    {
     "data": {
      "image/png": "[encoded data removed]",
      "text/plain": [
       "<Figure size 360x360 with 1 Axes>"
      ]
     },
     "metadata": {
      "needs_background": "light"
     },
     "output_type": "display_data"
    }
   ],
   "source": [
    "Stayed_customers_df = churn_df[churn_df['Customer Status'] == 'Stayed']\n",
    "sns.displot(data=Stayed_customers_df, x=\"Age\")"
   ]
  },
  {
   "cell_type": "code",
   "execution_count": 147,
   "id": "87df8417",
   "metadata": {},
   "outputs": [
    {
     "data": {
      "text/plain": [
       "<seaborn.axisgrid.FacetGrid at 0x1c868dbbe80>"
      ]
     },
     "execution_count": 147,
     "metadata": {},
     "output_type": "execute_result"
    },
    {
     "data": {
      "image/png": "[encoded data removed]",
      "text/plain": [
       "<Figure size 360x360 with 1 Axes>"
      ]
     },
     "metadata": {
      "needs_background": "light"
     },
     "output_type": "display_data"
    }
   ],
   "source": [
    "Churned_customers_df = churn_df[churn_df['Customer Status'] == 'Churned']\n",
    "sns.displot(data=Churned_customers_df, x=\"Age\")"
   ]
  },
  {
   "cell_type": "markdown",
   "id": "9987fbc3",
   "metadata": {},
   "source": [
    "Визуально видно, что оставшиеся клиенты в среднем более молодые.\n",
    "Тогда как у ушедших клиентов нет зависимости от возраста.\n",
    "Это подтверждает вывод, что искать причины ухода клиентов в их возрасте не имеет смысла."
   ]
  },
  {
   "cell_type": "markdown",
   "id": "f6f8b7bd",
   "metadata": {},
   "source": [
    " "
   ]
  },
  {
   "cell_type": "markdown",
   "id": "d8a6ff5e",
   "metadata": {},
   "source": [
    "3) Покупатели по городам"
   ]
  },
  {
   "cell_type": "markdown",
   "id": "33f4e5db",
   "metadata": {},
   "source": [
    "Посмотрим, сколько клиентов приходится на каждую из групп по городам:"
   ]
  },
  {
   "cell_type": "code",
   "execution_count": 148,
   "id": "cb988489",
   "metadata": {},
   "outputs": [
    {
     "data": {
      "text/html": [
       "<div>\n",
       "<style scoped>\n",
       "    .dataframe tbody tr th:only-of-type {\n",
       "        vertical-align: middle;\n",
       "    }\n",
       "\n",
       "    .dataframe tbody tr th {\n",
       "        vertical-align: top;\n",
       "    }\n",
       "\n",
       "    .dataframe thead th {\n",
       "        text-align: right;\n",
       "    }\n",
       "</style>\n",
       "<table border=\"1\" class=\"dataframe\">\n",
       "  <thead>\n",
       "    <tr style=\"text-align: right;\">\n",
       "      <th>Customer Status</th>\n",
       "      <th>Churned</th>\n",
       "      <th>Joined</th>\n",
       "      <th>Stayed</th>\n",
       "      <th>Total</th>\n",
       "    </tr>\n",
       "    <tr>\n",
       "      <th>City</th>\n",
       "      <th></th>\n",
       "      <th></th>\n",
       "      <th></th>\n",
       "      <th></th>\n",
       "    </tr>\n",
       "  </thead>\n",
       "  <tbody>\n",
       "    <tr>\n",
       "      <th>Los Angeles</th>\n",
       "      <td>78.0</td>\n",
       "      <td>18.0</td>\n",
       "      <td>197.0</td>\n",
       "      <td>293.0</td>\n",
       "    </tr>\n",
       "    <tr>\n",
       "      <th>San Diego</th>\n",
       "      <td>185.0</td>\n",
       "      <td>7.0</td>\n",
       "      <td>93.0</td>\n",
       "      <td>285.0</td>\n",
       "    </tr>\n",
       "    <tr>\n",
       "      <th>San Jose</th>\n",
       "      <td>29.0</td>\n",
       "      <td>2.0</td>\n",
       "      <td>81.0</td>\n",
       "      <td>112.0</td>\n",
       "    </tr>\n",
       "    <tr>\n",
       "      <th>Sacramento</th>\n",
       "      <td>26.0</td>\n",
       "      <td>6.0</td>\n",
       "      <td>76.0</td>\n",
       "      <td>108.0</td>\n",
       "    </tr>\n",
       "    <tr>\n",
       "      <th>San Francisco</th>\n",
       "      <td>31.0</td>\n",
       "      <td>7.0</td>\n",
       "      <td>66.0</td>\n",
       "      <td>104.0</td>\n",
       "    </tr>\n",
       "    <tr>\n",
       "      <th>...</th>\n",
       "      <td>...</td>\n",
       "      <td>...</td>\n",
       "      <td>...</td>\n",
       "      <td>...</td>\n",
       "    </tr>\n",
       "    <tr>\n",
       "      <th>South Lake Tahoe</th>\n",
       "      <td>2.0</td>\n",
       "      <td>0.0</td>\n",
       "      <td>0.0</td>\n",
       "      <td>2.0</td>\n",
       "    </tr>\n",
       "    <tr>\n",
       "      <th>Jacumba</th>\n",
       "      <td>0.0</td>\n",
       "      <td>1.0</td>\n",
       "      <td>1.0</td>\n",
       "      <td>2.0</td>\n",
       "    </tr>\n",
       "    <tr>\n",
       "      <th>Johannesburg</th>\n",
       "      <td>2.0</td>\n",
       "      <td>0.0</td>\n",
       "      <td>0.0</td>\n",
       "      <td>2.0</td>\n",
       "    </tr>\n",
       "    <tr>\n",
       "      <th>Holtville</th>\n",
       "      <td>0.0</td>\n",
       "      <td>0.0</td>\n",
       "      <td>2.0</td>\n",
       "      <td>2.0</td>\n",
       "    </tr>\n",
       "    <tr>\n",
       "      <th>Eldridge</th>\n",
       "      <td>2.0</td>\n",
       "      <td>0.0</td>\n",
       "      <td>0.0</td>\n",
       "      <td>2.0</td>\n",
       "    </tr>\n",
       "  </tbody>\n",
       "</table>\n",
       "<p>1106 rows × 4 columns</p>\n",
       "</div>"
      ],
      "text/plain": [
       "Customer Status   Churned  Joined  Stayed  Total\n",
       "City                                            \n",
       "Los Angeles          78.0    18.0   197.0  293.0\n",
       "San Diego           185.0     7.0    93.0  285.0\n",
       "San Jose             29.0     2.0    81.0  112.0\n",
       "Sacramento           26.0     6.0    76.0  108.0\n",
       "San Francisco        31.0     7.0    66.0  104.0\n",
       "...                   ...     ...     ...    ...\n",
       "South Lake Tahoe      2.0     0.0     0.0    2.0\n",
       "Jacumba               0.0     1.0     1.0    2.0\n",
       "Johannesburg          2.0     0.0     0.0    2.0\n",
       "Holtville             0.0     0.0     2.0    2.0\n",
       "Eldridge              2.0     0.0     0.0    2.0\n",
       "\n",
       "[1106 rows x 4 columns]"
      ]
     },
     "execution_count": 148,
     "metadata": {},
     "output_type": "execute_result"
    }
   ],
   "source": [
    "customers_by_city_df = churn_df \\\n",
    "    .groupby(['Customer Status', 'City'], as_index=False) \\\n",
    "    .agg({'Age': 'count'}) \\\n",
    "    .pivot(index='City', columns='Customer Status', values='Age') \\\n",
    "    .fillna(0)\n",
    "\n",
    "customers_by_city_df['Total'] = customers_by_city_df['Churned'] + customers_by_city_df['Joined'] + customers_by_city_df['Stayed']\n",
    "customers_by_city_df.sort_values(by='Total', ascending=False)"
   ]
  },
  {
   "cell_type": "markdown",
   "id": "8e9de49f",
   "metadata": {},
   "source": [
    " "
   ]
  },
  {
   "cell_type": "markdown",
   "id": "3f3881f2",
   "metadata": {},
   "source": [
    "\n",
    "\n",
    "Оставим только города с общим числом клиентов более 50:"
   ]
  },
  {
   "cell_type": "code",
   "execution_count": 149,
   "id": "a2feab92",
   "metadata": {},
   "outputs": [
    {
     "data": {
      "text/html": [
       "<div>\n",
       "<style scoped>\n",
       "    .dataframe tbody tr th:only-of-type {\n",
       "        vertical-align: middle;\n",
       "    }\n",
       "\n",
       "    .dataframe tbody tr th {\n",
       "        vertical-align: top;\n",
       "    }\n",
       "\n",
       "    .dataframe thead th {\n",
       "        text-align: right;\n",
       "    }\n",
       "</style>\n",
       "<table border=\"1\" class=\"dataframe\">\n",
       "  <thead>\n",
       "    <tr style=\"text-align: right;\">\n",
       "      <th>Customer Status</th>\n",
       "      <th>Churned</th>\n",
       "      <th>Joined</th>\n",
       "      <th>Stayed</th>\n",
       "      <th>Total</th>\n",
       "    </tr>\n",
       "    <tr>\n",
       "      <th>City</th>\n",
       "      <th></th>\n",
       "      <th></th>\n",
       "      <th></th>\n",
       "      <th></th>\n",
       "    </tr>\n",
       "  </thead>\n",
       "  <tbody>\n",
       "    <tr>\n",
       "      <th>Los Angeles</th>\n",
       "      <td>78.0</td>\n",
       "      <td>18.0</td>\n",
       "      <td>197.0</td>\n",
       "      <td>293.0</td>\n",
       "    </tr>\n",
       "    <tr>\n",
       "      <th>San Diego</th>\n",
       "      <td>185.0</td>\n",
       "      <td>7.0</td>\n",
       "      <td>93.0</td>\n",
       "      <td>285.0</td>\n",
       "    </tr>\n",
       "    <tr>\n",
       "      <th>San Jose</th>\n",
       "      <td>29.0</td>\n",
       "      <td>2.0</td>\n",
       "      <td>81.0</td>\n",
       "      <td>112.0</td>\n",
       "    </tr>\n",
       "    <tr>\n",
       "      <th>Sacramento</th>\n",
       "      <td>26.0</td>\n",
       "      <td>6.0</td>\n",
       "      <td>76.0</td>\n",
       "      <td>108.0</td>\n",
       "    </tr>\n",
       "    <tr>\n",
       "      <th>San Francisco</th>\n",
       "      <td>31.0</td>\n",
       "      <td>7.0</td>\n",
       "      <td>66.0</td>\n",
       "      <td>104.0</td>\n",
       "    </tr>\n",
       "    <tr>\n",
       "      <th>Fresno</th>\n",
       "      <td>13.0</td>\n",
       "      <td>0.0</td>\n",
       "      <td>48.0</td>\n",
       "      <td>61.0</td>\n",
       "    </tr>\n",
       "    <tr>\n",
       "      <th>Long Beach</th>\n",
       "      <td>15.0</td>\n",
       "      <td>2.0</td>\n",
       "      <td>43.0</td>\n",
       "      <td>60.0</td>\n",
       "    </tr>\n",
       "    <tr>\n",
       "      <th>Oakland</th>\n",
       "      <td>13.0</td>\n",
       "      <td>5.0</td>\n",
       "      <td>34.0</td>\n",
       "      <td>52.0</td>\n",
       "    </tr>\n",
       "    <tr>\n",
       "      <th>Escondido</th>\n",
       "      <td>16.0</td>\n",
       "      <td>3.0</td>\n",
       "      <td>32.0</td>\n",
       "      <td>51.0</td>\n",
       "    </tr>\n",
       "  </tbody>\n",
       "</table>\n",
       "</div>"
      ],
      "text/plain": [
       "Customer Status  Churned  Joined  Stayed  Total\n",
       "City                                           \n",
       "Los Angeles         78.0    18.0   197.0  293.0\n",
       "San Diego          185.0     7.0    93.0  285.0\n",
       "San Jose            29.0     2.0    81.0  112.0\n",
       "Sacramento          26.0     6.0    76.0  108.0\n",
       "San Francisco       31.0     7.0    66.0  104.0\n",
       "Fresno              13.0     0.0    48.0   61.0\n",
       "Long Beach          15.0     2.0    43.0   60.0\n",
       "Oakland             13.0     5.0    34.0   52.0\n",
       "Escondido           16.0     3.0    32.0   51.0"
      ]
     },
     "execution_count": 149,
     "metadata": {},
     "output_type": "execute_result"
    }
   ],
   "source": [
    "top_cities_df = customers_by_city_df[customers_by_city_df['Total'] >= 50]\n",
    "top_cities_df.sort_values(by='Total', ascending=False)"
   ]
  },
  {
   "cell_type": "markdown",
   "id": "9cee212d",
   "metadata": {},
   "source": [
    " "
   ]
  },
  {
   "cell_type": "markdown",
   "id": "0ed591bf",
   "metadata": {},
   "source": [
    "Посчитаем долю ушедших клиентов по городам:"
   ]
  },
  {
   "cell_type": "code",
   "execution_count": 150,
   "id": "624a2dfa",
   "metadata": {},
   "outputs": [
    {
     "data": {
      "text/html": [
       "<div>\n",
       "<style scoped>\n",
       "    .dataframe tbody tr th:only-of-type {\n",
       "        vertical-align: middle;\n",
       "    }\n",
       "\n",
       "    .dataframe tbody tr th {\n",
       "        vertical-align: top;\n",
       "    }\n",
       "\n",
       "    .dataframe thead th {\n",
       "        text-align: right;\n",
       "    }\n",
       "</style>\n",
       "<table border=\"1\" class=\"dataframe\">\n",
       "  <thead>\n",
       "    <tr style=\"text-align: right;\">\n",
       "      <th>Customer Status</th>\n",
       "      <th>Churned</th>\n",
       "      <th>Total</th>\n",
       "      <th>Churned_share</th>\n",
       "    </tr>\n",
       "    <tr>\n",
       "      <th>City</th>\n",
       "      <th></th>\n",
       "      <th></th>\n",
       "      <th></th>\n",
       "    </tr>\n",
       "  </thead>\n",
       "  <tbody>\n",
       "    <tr>\n",
       "      <th>San Diego</th>\n",
       "      <td>185.0</td>\n",
       "      <td>285.0</td>\n",
       "      <td>64.9</td>\n",
       "    </tr>\n",
       "    <tr>\n",
       "      <th>Escondido</th>\n",
       "      <td>16.0</td>\n",
       "      <td>51.0</td>\n",
       "      <td>31.4</td>\n",
       "    </tr>\n",
       "    <tr>\n",
       "      <th>San Francisco</th>\n",
       "      <td>31.0</td>\n",
       "      <td>104.0</td>\n",
       "      <td>29.8</td>\n",
       "    </tr>\n",
       "    <tr>\n",
       "      <th>Los Angeles</th>\n",
       "      <td>78.0</td>\n",
       "      <td>293.0</td>\n",
       "      <td>26.6</td>\n",
       "    </tr>\n",
       "    <tr>\n",
       "      <th>San Jose</th>\n",
       "      <td>29.0</td>\n",
       "      <td>112.0</td>\n",
       "      <td>25.9</td>\n",
       "    </tr>\n",
       "    <tr>\n",
       "      <th>Long Beach</th>\n",
       "      <td>15.0</td>\n",
       "      <td>60.0</td>\n",
       "      <td>25.0</td>\n",
       "    </tr>\n",
       "    <tr>\n",
       "      <th>Oakland</th>\n",
       "      <td>13.0</td>\n",
       "      <td>52.0</td>\n",
       "      <td>25.0</td>\n",
       "    </tr>\n",
       "    <tr>\n",
       "      <th>Sacramento</th>\n",
       "      <td>26.0</td>\n",
       "      <td>108.0</td>\n",
       "      <td>24.1</td>\n",
       "    </tr>\n",
       "    <tr>\n",
       "      <th>Fresno</th>\n",
       "      <td>13.0</td>\n",
       "      <td>61.0</td>\n",
       "      <td>21.3</td>\n",
       "    </tr>\n",
       "  </tbody>\n",
       "</table>\n",
       "</div>"
      ],
      "text/plain": [
       "Customer Status  Churned  Total  Churned_share\n",
       "City                                          \n",
       "San Diego          185.0  285.0           64.9\n",
       "Escondido           16.0   51.0           31.4\n",
       "San Francisco       31.0  104.0           29.8\n",
       "Los Angeles         78.0  293.0           26.6\n",
       "San Jose            29.0  112.0           25.9\n",
       "Long Beach          15.0   60.0           25.0\n",
       "Oakland             13.0   52.0           25.0\n",
       "Sacramento          26.0  108.0           24.1\n",
       "Fresno              13.0   61.0           21.3"
      ]
     },
     "execution_count": 150,
     "metadata": {},
     "output_type": "execute_result"
    }
   ],
   "source": [
    "top_cities_df = top_cities_df[['Churned', 'Total']]\n",
    "top_cities_df['Churned_share'] = np.round(top_cities_df['Churned'] / top_cities_df['Total'] * 100, 1)\n",
    "top_cities_df.sort_values(by='Churned_share', ascending=False)"
   ]
  },
  {
   "cell_type": "markdown",
   "id": "d772ba05",
   "metadata": {},
   "source": [
    "**Видно, что что-то случилось в Сан Диего.**\n",
    "\n",
    "Причем, как и по количеству ушедших клиентов, так и по доле ушедших клиентов от общего их числа.\n",
    "Ушли почти 65% клиентов.\n",
    "\n",
    "Посмотрим данные по ушедшим клиентам из Сан Диего:"
   ]
  },
  {
   "cell_type": "code",
   "execution_count": 176,
   "id": "658c50d7",
   "metadata": {},
   "outputs": [
    {
     "data": {
      "text/html": [
       "<div>\n",
       "<style scoped>\n",
       "    .dataframe tbody tr th:only-of-type {\n",
       "        vertical-align: middle;\n",
       "    }\n",
       "\n",
       "    .dataframe tbody tr th {\n",
       "        vertical-align: top;\n",
       "    }\n",
       "\n",
       "    .dataframe thead th {\n",
       "        text-align: right;\n",
       "    }\n",
       "</style>\n",
       "<table border=\"1\" class=\"dataframe\">\n",
       "  <thead>\n",
       "    <tr style=\"text-align: right;\">\n",
       "      <th></th>\n",
       "      <th>Customer ID</th>\n",
       "      <th>Gender</th>\n",
       "      <th>Age</th>\n",
       "      <th>Married</th>\n",
       "      <th>Number of Dependents</th>\n",
       "      <th>City</th>\n",
       "      <th>Zip Code</th>\n",
       "      <th>Latitude</th>\n",
       "      <th>Longitude</th>\n",
       "      <th>Number of Referrals</th>\n",
       "      <th>...</th>\n",
       "      <th>Payment Method</th>\n",
       "      <th>Monthly Charge</th>\n",
       "      <th>Total Charges</th>\n",
       "      <th>Total Refunds</th>\n",
       "      <th>Total Extra Data Charges</th>\n",
       "      <th>Total Long Distance Charges</th>\n",
       "      <th>Total Revenue</th>\n",
       "      <th>Customer Status</th>\n",
       "      <th>Churn Category</th>\n",
       "      <th>Churn Reason</th>\n",
       "    </tr>\n",
       "  </thead>\n",
       "  <tbody>\n",
       "    <tr>\n",
       "      <th>40</th>\n",
       "      <td>0067-DKWBL</td>\n",
       "      <td>Male</td>\n",
       "      <td>69</td>\n",
       "      <td>No</td>\n",
       "      <td>0</td>\n",
       "      <td>San Diego</td>\n",
       "      <td>92129</td>\n",
       "      <td>32.961064</td>\n",
       "      <td>-117.134917</td>\n",
       "      <td>0</td>\n",
       "      <td>...</td>\n",
       "      <td>Bank Withdrawal</td>\n",
       "      <td>49.25</td>\n",
       "      <td>91.10</td>\n",
       "      <td>0.00</td>\n",
       "      <td>0</td>\n",
       "      <td>87.98</td>\n",
       "      <td>179.08</td>\n",
       "      <td>Churned</td>\n",
       "      <td>Competitor</td>\n",
       "      <td>Competitor made better offer</td>\n",
       "    </tr>\n",
       "    <tr>\n",
       "      <th>75</th>\n",
       "      <td>0122-OAHPZ</td>\n",
       "      <td>Female</td>\n",
       "      <td>29</td>\n",
       "      <td>No</td>\n",
       "      <td>0</td>\n",
       "      <td>San Diego</td>\n",
       "      <td>92122</td>\n",
       "      <td>32.857230</td>\n",
       "      <td>-117.209774</td>\n",
       "      <td>0</td>\n",
       "      <td>...</td>\n",
       "      <td>Bank Withdrawal</td>\n",
       "      <td>73.85</td>\n",
       "      <td>511.25</td>\n",
       "      <td>13.03</td>\n",
       "      <td>0</td>\n",
       "      <td>200.34</td>\n",
       "      <td>698.56</td>\n",
       "      <td>Churned</td>\n",
       "      <td>Competitor</td>\n",
       "      <td>Competitor made better offer</td>\n",
       "    </tr>\n",
       "    <tr>\n",
       "      <th>126</th>\n",
       "      <td>0219-YTZUE</td>\n",
       "      <td>Male</td>\n",
       "      <td>26</td>\n",
       "      <td>Yes</td>\n",
       "      <td>0</td>\n",
       "      <td>San Diego</td>\n",
       "      <td>92122</td>\n",
       "      <td>32.857230</td>\n",
       "      <td>-117.209774</td>\n",
       "      <td>5</td>\n",
       "      <td>...</td>\n",
       "      <td>Bank Withdrawal</td>\n",
       "      <td>84.80</td>\n",
       "      <td>371.90</td>\n",
       "      <td>0.00</td>\n",
       "      <td>0</td>\n",
       "      <td>115.08</td>\n",
       "      <td>486.98</td>\n",
       "      <td>Churned</td>\n",
       "      <td>Competitor</td>\n",
       "      <td>Competitor made better offer</td>\n",
       "    </tr>\n",
       "    <tr>\n",
       "      <th>131</th>\n",
       "      <td>0224-HJAPT</td>\n",
       "      <td>Male</td>\n",
       "      <td>25</td>\n",
       "      <td>No</td>\n",
       "      <td>0</td>\n",
       "      <td>San Diego</td>\n",
       "      <td>92117</td>\n",
       "      <td>32.825086</td>\n",
       "      <td>-117.199424</td>\n",
       "      <td>0</td>\n",
       "      <td>...</td>\n",
       "      <td>Bank Withdrawal</td>\n",
       "      <td>47.15</td>\n",
       "      <td>223.15</td>\n",
       "      <td>0.00</td>\n",
       "      <td>0</td>\n",
       "      <td>110.05</td>\n",
       "      <td>333.20</td>\n",
       "      <td>Churned</td>\n",
       "      <td>Competitor</td>\n",
       "      <td>Competitor made better offer</td>\n",
       "    </tr>\n",
       "    <tr>\n",
       "      <th>159</th>\n",
       "      <td>0259-GBZSH</td>\n",
       "      <td>Male</td>\n",
       "      <td>22</td>\n",
       "      <td>No</td>\n",
       "      <td>0</td>\n",
       "      <td>San Diego</td>\n",
       "      <td>92122</td>\n",
       "      <td>32.857230</td>\n",
       "      <td>-117.209774</td>\n",
       "      <td>0</td>\n",
       "      <td>...</td>\n",
       "      <td>Bank Withdrawal</td>\n",
       "      <td>85.65</td>\n",
       "      <td>181.50</td>\n",
       "      <td>0.00</td>\n",
       "      <td>0</td>\n",
       "      <td>80.86</td>\n",
       "      <td>262.36</td>\n",
       "      <td>Churned</td>\n",
       "      <td>Competitor</td>\n",
       "      <td>Competitor made better offer</td>\n",
       "    </tr>\n",
       "  </tbody>\n",
       "</table>\n",
       "<p>5 rows × 38 columns</p>\n",
       "</div>"
      ],
      "text/plain": [
       "    Customer ID  Gender  Age Married  Number of Dependents       City  \\\n",
       "40   0067-DKWBL    Male   69      No                     0  San Diego   \n",
       "75   0122-OAHPZ  Female   29      No                     0  San Diego   \n",
       "126  0219-YTZUE    Male   26     Yes                     0  San Diego   \n",
       "131  0224-HJAPT    Male   25      No                     0  San Diego   \n",
       "159  0259-GBZSH    Male   22      No                     0  San Diego   \n",
       "\n",
       "     Zip Code   Latitude   Longitude  Number of Referrals  ...  \\\n",
       "40      92129  32.961064 -117.134917                    0  ...   \n",
       "75      92122  32.857230 -117.209774                    0  ...   \n",
       "126     92122  32.857230 -117.209774                    5  ...   \n",
       "131     92117  32.825086 -117.199424                    0  ...   \n",
       "159     92122  32.857230 -117.209774                    0  ...   \n",
       "\n",
       "      Payment Method Monthly Charge Total Charges  Total Refunds  \\\n",
       "40   Bank Withdrawal          49.25         91.10           0.00   \n",
       "75   Bank Withdrawal          73.85        511.25          13.03   \n",
       "126  Bank Withdrawal          84.80        371.90           0.00   \n",
       "131  Bank Withdrawal          47.15        223.15           0.00   \n",
       "159  Bank Withdrawal          85.65        181.50           0.00   \n",
       "\n",
       "    Total Extra Data Charges Total Long Distance Charges Total Revenue  \\\n",
       "40                         0                       87.98        179.08   \n",
       "75                         0                      200.34        698.56   \n",
       "126                        0                      115.08        486.98   \n",
       "131                        0                      110.05        333.20   \n",
       "159                        0                       80.86        262.36   \n",
       "\n",
       "     Customer Status Churn Category                  Churn Reason  \n",
       "40           Churned     Competitor  Competitor made better offer  \n",
       "75           Churned     Competitor  Competitor made better offer  \n",
       "126          Churned     Competitor  Competitor made better offer  \n",
       "131          Churned     Competitor  Competitor made better offer  \n",
       "159          Churned     Competitor  Competitor made better offer  \n",
       "\n",
       "[5 rows x 38 columns]"
      ]
     },
     "execution_count": 176,
     "metadata": {},
     "output_type": "execute_result"
    }
   ],
   "source": [
    "churned_san_diego_customers_df = churn_df[(churn_df['City'] == 'San Diego') & (churn_df['Customer Status'] == 'Churned')]\n",
    "churned_san_diego_customers_df.head()"
   ]
  },
  {
   "cell_type": "markdown",
   "id": "608a5c79",
   "metadata": {},
   "source": [
    " "
   ]
  },
  {
   "cell_type": "markdown",
   "id": "dc6ceca7",
   "metadata": {},
   "source": [
    "Посмотрим причины ухода:"
   ]
  },
  {
   "cell_type": "code",
   "execution_count": 152,
   "id": "beaf3a4c",
   "metadata": {},
   "outputs": [
    {
     "data": {
      "text/html": [
       "<div>\n",
       "<style scoped>\n",
       "    .dataframe tbody tr th:only-of-type {\n",
       "        vertical-align: middle;\n",
       "    }\n",
       "\n",
       "    .dataframe tbody tr th {\n",
       "        vertical-align: top;\n",
       "    }\n",
       "\n",
       "    .dataframe thead th {\n",
       "        text-align: right;\n",
       "    }\n",
       "</style>\n",
       "<table border=\"1\" class=\"dataframe\">\n",
       "  <thead>\n",
       "    <tr style=\"text-align: right;\">\n",
       "      <th></th>\n",
       "      <th>Age</th>\n",
       "    </tr>\n",
       "    <tr>\n",
       "      <th>Churn Category</th>\n",
       "      <th></th>\n",
       "    </tr>\n",
       "  </thead>\n",
       "  <tbody>\n",
       "    <tr>\n",
       "      <th>Attitude</th>\n",
       "      <td>10</td>\n",
       "    </tr>\n",
       "    <tr>\n",
       "      <th>Competitor</th>\n",
       "      <td>152</td>\n",
       "    </tr>\n",
       "    <tr>\n",
       "      <th>Dissatisfaction</th>\n",
       "      <td>6</td>\n",
       "    </tr>\n",
       "    <tr>\n",
       "      <th>Other</th>\n",
       "      <td>15</td>\n",
       "    </tr>\n",
       "    <tr>\n",
       "      <th>Price</th>\n",
       "      <td>2</td>\n",
       "    </tr>\n",
       "  </tbody>\n",
       "</table>\n",
       "</div>"
      ],
      "text/plain": [
       "                 Age\n",
       "Churn Category      \n",
       "Attitude          10\n",
       "Competitor       152\n",
       "Dissatisfaction    6\n",
       "Other             15\n",
       "Price              2"
      ]
     },
     "execution_count": 152,
     "metadata": {},
     "output_type": "execute_result"
    }
   ],
   "source": [
    "churned_san_diego_customers_df \\\n",
    "    .groupby('Churn Category') \\\n",
    "    .agg({'Age': 'count'})"
   ]
  },
  {
   "cell_type": "markdown",
   "id": "1d9ed9ce",
   "metadata": {},
   "source": [
    "82% ушедших клиентов стали пользоваться услугами конкурентов.\n",
    "Посмотрим причины ухода к конкурентам:"
   ]
  },
  {
   "cell_type": "code",
   "execution_count": 153,
   "id": "45316594",
   "metadata": {},
   "outputs": [
    {
     "data": {
      "text/html": [
       "<div>\n",
       "<style scoped>\n",
       "    .dataframe tbody tr th:only-of-type {\n",
       "        vertical-align: middle;\n",
       "    }\n",
       "\n",
       "    .dataframe tbody tr th {\n",
       "        vertical-align: top;\n",
       "    }\n",
       "\n",
       "    .dataframe thead th {\n",
       "        text-align: right;\n",
       "    }\n",
       "</style>\n",
       "<table border=\"1\" class=\"dataframe\">\n",
       "  <thead>\n",
       "    <tr style=\"text-align: right;\">\n",
       "      <th></th>\n",
       "      <th>Age</th>\n",
       "    </tr>\n",
       "    <tr>\n",
       "      <th>Churn Reason</th>\n",
       "      <th></th>\n",
       "    </tr>\n",
       "  </thead>\n",
       "  <tbody>\n",
       "    <tr>\n",
       "      <th>Competitor had better devices</th>\n",
       "      <td>6</td>\n",
       "    </tr>\n",
       "    <tr>\n",
       "      <th>Competitor made better offer</th>\n",
       "      <td>146</td>\n",
       "    </tr>\n",
       "  </tbody>\n",
       "</table>\n",
       "</div>"
      ],
      "text/plain": [
       "                               Age\n",
       "Churn Reason                      \n",
       "Competitor had better devices    6\n",
       "Competitor made better offer   146"
      ]
     },
     "execution_count": 153,
     "metadata": {},
     "output_type": "execute_result"
    }
   ],
   "source": [
    "churned_to_competitor_san_diego_customers_df = churned_san_diego_customers_df[churned_san_diego_customers_df['Churn Category'] == 'Competitor']\n",
    "churned_to_competitor_san_diego_customers_df.groupby('Churn Reason').agg({'Age': 'count'})"
   ]
  },
  {
   "cell_type": "markdown",
   "id": "3f8659ea",
   "metadata": {},
   "source": [
    "Видно, что предложение конкурентов существенно лучше, что становится причиной перехода клиентов к ним. А это потеря 65% клиентов. Так что предложение конкурентов сильно лучше."
   ]
  },
  {
   "cell_type": "markdown",
   "id": "467774cb",
   "metadata": {},
   "source": [
    " "
   ]
  },
  {
   "cell_type": "markdown",
   "id": "c143d0ff",
   "metadata": {},
   "source": [
    "4) Срок пользования услугами"
   ]
  },
  {
   "cell_type": "code",
   "execution_count": 154,
   "id": "52b4f133",
   "metadata": {},
   "outputs": [
    {
     "data": {
      "text/html": [
       "<div>\n",
       "<style scoped>\n",
       "    .dataframe tbody tr th:only-of-type {\n",
       "        vertical-align: middle;\n",
       "    }\n",
       "\n",
       "    .dataframe tbody tr th {\n",
       "        vertical-align: top;\n",
       "    }\n",
       "\n",
       "    .dataframe thead th {\n",
       "        text-align: right;\n",
       "    }\n",
       "</style>\n",
       "<table border=\"1\" class=\"dataframe\">\n",
       "  <thead>\n",
       "    <tr style=\"text-align: right;\">\n",
       "      <th></th>\n",
       "      <th>Customer Status</th>\n",
       "      <th>Tenure in Months</th>\n",
       "    </tr>\n",
       "  </thead>\n",
       "  <tbody>\n",
       "    <tr>\n",
       "      <th>0</th>\n",
       "      <td>Churned</td>\n",
       "      <td>17.979133</td>\n",
       "    </tr>\n",
       "    <tr>\n",
       "      <th>1</th>\n",
       "      <td>Joined</td>\n",
       "      <td>1.720264</td>\n",
       "    </tr>\n",
       "    <tr>\n",
       "      <th>2</th>\n",
       "      <td>Stayed</td>\n",
       "      <td>41.041525</td>\n",
       "    </tr>\n",
       "  </tbody>\n",
       "</table>\n",
       "</div>"
      ],
      "text/plain": [
       "  Customer Status  Tenure in Months\n",
       "0         Churned         17.979133\n",
       "1          Joined          1.720264\n",
       "2          Stayed         41.041525"
      ]
     },
     "execution_count": 154,
     "metadata": {},
     "output_type": "execute_result"
    }
   ],
   "source": [
    "customer_length_df = churn_df \\\n",
    "    .groupby('Customer Status', as_index=False) \\\n",
    "    .agg({'Tenure in Months': 'mean'})\n",
    "\n",
    "customer_length_df"
   ]
  },
  {
   "cell_type": "code",
   "execution_count": 155,
   "id": "785220bc",
   "metadata": {},
   "outputs": [
    {
     "data": {
      "text/plain": [
       "<seaborn.axisgrid.FacetGrid at 0x1c8622a4370>"
      ]
     },
     "execution_count": 155,
     "metadata": {},
     "output_type": "execute_result"
    },
    {
     "data": {
      "image/png": "[encoded data removed]",
      "text/plain": [
       "<Figure size 360x360 with 1 Axes>"
      ]
     },
     "metadata": {
      "needs_background": "light"
     },
     "output_type": "display_data"
    }
   ],
   "source": [
    "Stayed_customers_df = churn_df[churn_df['Customer Status'] == 'Stayed']\n",
    "sns.displot(data=Stayed_customers_df, x=\"Tenure in Months\")"
   ]
  },
  {
   "cell_type": "code",
   "execution_count": 156,
   "id": "5ef4fa8f",
   "metadata": {},
   "outputs": [
    {
     "data": {
      "text/plain": [
       "<seaborn.axisgrid.FacetGrid at 0x1c866deafe0>"
      ]
     },
     "execution_count": 156,
     "metadata": {},
     "output_type": "execute_result"
    },
    {
     "data": {
      "image/png": "[encoded data removed]",
      "text/plain": [
       "<Figure size 360x360 with 1 Axes>"
      ]
     },
     "metadata": {
      "needs_background": "light"
     },
     "output_type": "display_data"
    }
   ],
   "source": [
    "Churned_customers_df = churn_df[churn_df['Customer Status'] == 'Churned']\n",
    "sns.displot(data=Churned_customers_df, x=\"Tenure in Months\")"
   ]
  },
  {
   "cell_type": "markdown",
   "id": "6ff76ad5",
   "metadata": {},
   "source": [
    "Интересная картина. БОльшая часть ушедших клиентов ушла, проведя с компанией менее 5 месяцев. \n",
    "При этом есть большое число лояльных клиентов, которые пользуются услугами компании на протяжении 5-6 лет.\n",
    "Т.е. тенденция говорит о том, что проблемы начались в последние месяцы.\n",
    "\n",
    "Посмотрим более детально на распределение внутри этих 5 месяцев:"
   ]
  },
  {
   "cell_type": "code",
   "execution_count": 157,
   "id": "0987f180",
   "metadata": {},
   "outputs": [
    {
     "data": {
      "text/plain": [
       "<seaborn.axisgrid.FacetGrid at 0x1c86b3a7be0>"
      ]
     },
     "execution_count": 157,
     "metadata": {},
     "output_type": "execute_result"
    },
    {
     "data": {
      "image/png": "[encoded data removed]",
      "text/plain": [
       "<Figure size 360x360 with 1 Axes>"
      ]
     },
     "metadata": {
      "needs_background": "light"
     },
     "output_type": "display_data"
    }
   ],
   "source": [
    "Churned_customers_df = churn_df[(churn_df['Customer Status'] == 'Churned') & (churn_df['Tenure in Months'] <= 5)]\n",
    "sns.displot(data=Churned_customers_df, x=\"Tenure in Months\")"
   ]
  },
  {
   "cell_type": "markdown",
   "id": "0cf96220",
   "metadata": {},
   "source": [
    "Более половины клиентов из них подключились в последний месяц.\n",
    "\n",
    "Отсортируем и посмотрим, что там не так:"
   ]
  },
  {
   "cell_type": "code",
   "execution_count": 177,
   "id": "007cf4b4",
   "metadata": {},
   "outputs": [
    {
     "data": {
      "text/html": [
       "<div>\n",
       "<style scoped>\n",
       "    .dataframe tbody tr th:only-of-type {\n",
       "        vertical-align: middle;\n",
       "    }\n",
       "\n",
       "    .dataframe tbody tr th {\n",
       "        vertical-align: top;\n",
       "    }\n",
       "\n",
       "    .dataframe thead th {\n",
       "        text-align: right;\n",
       "    }\n",
       "</style>\n",
       "<table border=\"1\" class=\"dataframe\">\n",
       "  <thead>\n",
       "    <tr style=\"text-align: right;\">\n",
       "      <th></th>\n",
       "      <th>Customer ID</th>\n",
       "      <th>Gender</th>\n",
       "      <th>Age</th>\n",
       "      <th>Married</th>\n",
       "      <th>Number of Dependents</th>\n",
       "      <th>City</th>\n",
       "      <th>Zip Code</th>\n",
       "      <th>Latitude</th>\n",
       "      <th>Longitude</th>\n",
       "      <th>Number of Referrals</th>\n",
       "      <th>...</th>\n",
       "      <th>Payment Method</th>\n",
       "      <th>Monthly Charge</th>\n",
       "      <th>Total Charges</th>\n",
       "      <th>Total Refunds</th>\n",
       "      <th>Total Extra Data Charges</th>\n",
       "      <th>Total Long Distance Charges</th>\n",
       "      <th>Total Revenue</th>\n",
       "      <th>Customer Status</th>\n",
       "      <th>Churn Category</th>\n",
       "      <th>Churn Reason</th>\n",
       "    </tr>\n",
       "  </thead>\n",
       "  <tbody>\n",
       "    <tr>\n",
       "      <th>19</th>\n",
       "      <td>0023-HGHWL</td>\n",
       "      <td>Male</td>\n",
       "      <td>67</td>\n",
       "      <td>No</td>\n",
       "      <td>0</td>\n",
       "      <td>Morgan Hill</td>\n",
       "      <td>95037</td>\n",
       "      <td>37.161544</td>\n",
       "      <td>-121.649371</td>\n",
       "      <td>0</td>\n",
       "      <td>...</td>\n",
       "      <td>Bank Withdrawal</td>\n",
       "      <td>25.10</td>\n",
       "      <td>25.10</td>\n",
       "      <td>0.0</td>\n",
       "      <td>0</td>\n",
       "      <td>0.00</td>\n",
       "      <td>25.10</td>\n",
       "      <td>Churned</td>\n",
       "      <td>Competitor</td>\n",
       "      <td>Competitor made better offer</td>\n",
       "    </tr>\n",
       "    <tr>\n",
       "      <th>25</th>\n",
       "      <td>0032-PGELS</td>\n",
       "      <td>Female</td>\n",
       "      <td>37</td>\n",
       "      <td>Yes</td>\n",
       "      <td>1</td>\n",
       "      <td>Palomar Mountain</td>\n",
       "      <td>92060</td>\n",
       "      <td>33.309852</td>\n",
       "      <td>-116.823091</td>\n",
       "      <td>1</td>\n",
       "      <td>...</td>\n",
       "      <td>Bank Withdrawal</td>\n",
       "      <td>30.50</td>\n",
       "      <td>30.50</td>\n",
       "      <td>0.0</td>\n",
       "      <td>0</td>\n",
       "      <td>0.00</td>\n",
       "      <td>30.50</td>\n",
       "      <td>Churned</td>\n",
       "      <td>Attitude</td>\n",
       "      <td>Attitude of service provider</td>\n",
       "    </tr>\n",
       "    <tr>\n",
       "      <th>63</th>\n",
       "      <td>0107-WESLM</td>\n",
       "      <td>Male</td>\n",
       "      <td>32</td>\n",
       "      <td>No</td>\n",
       "      <td>0</td>\n",
       "      <td>West Point</td>\n",
       "      <td>95255</td>\n",
       "      <td>38.419350</td>\n",
       "      <td>-120.469545</td>\n",
       "      <td>0</td>\n",
       "      <td>...</td>\n",
       "      <td>Bank Withdrawal</td>\n",
       "      <td>19.85</td>\n",
       "      <td>19.85</td>\n",
       "      <td>0.0</td>\n",
       "      <td>0</td>\n",
       "      <td>31.77</td>\n",
       "      <td>51.62</td>\n",
       "      <td>Churned</td>\n",
       "      <td>Attitude</td>\n",
       "      <td>Attitude of support person</td>\n",
       "    </tr>\n",
       "    <tr>\n",
       "      <th>64</th>\n",
       "      <td>0107-YHINA</td>\n",
       "      <td>Male</td>\n",
       "      <td>59</td>\n",
       "      <td>No</td>\n",
       "      <td>0</td>\n",
       "      <td>Los Angeles</td>\n",
       "      <td>90062</td>\n",
       "      <td>34.003553</td>\n",
       "      <td>-118.308933</td>\n",
       "      <td>0</td>\n",
       "      <td>...</td>\n",
       "      <td>Bank Withdrawal</td>\n",
       "      <td>99.75</td>\n",
       "      <td>99.75</td>\n",
       "      <td>0.0</td>\n",
       "      <td>0</td>\n",
       "      <td>40.71</td>\n",
       "      <td>140.46</td>\n",
       "      <td>Churned</td>\n",
       "      <td>Competitor</td>\n",
       "      <td>Competitor had better devices</td>\n",
       "    </tr>\n",
       "    <tr>\n",
       "      <th>86</th>\n",
       "      <td>0137-OCGAB</td>\n",
       "      <td>Female</td>\n",
       "      <td>25</td>\n",
       "      <td>No</td>\n",
       "      <td>0</td>\n",
       "      <td>Fairfield</td>\n",
       "      <td>94533</td>\n",
       "      <td>38.287136</td>\n",
       "      <td>-122.027110</td>\n",
       "      <td>0</td>\n",
       "      <td>...</td>\n",
       "      <td>Mailed Check</td>\n",
       "      <td>80.20</td>\n",
       "      <td>80.20</td>\n",
       "      <td>0.0</td>\n",
       "      <td>0</td>\n",
       "      <td>1.23</td>\n",
       "      <td>81.43</td>\n",
       "      <td>Churned</td>\n",
       "      <td>Price</td>\n",
       "      <td>Lack of affordable download/upload speed</td>\n",
       "    </tr>\n",
       "  </tbody>\n",
       "</table>\n",
       "<p>5 rows × 38 columns</p>\n",
       "</div>"
      ],
      "text/plain": [
       "   Customer ID  Gender  Age Married  Number of Dependents              City  \\\n",
       "19  0023-HGHWL    Male   67      No                     0       Morgan Hill   \n",
       "25  0032-PGELS  Female   37     Yes                     1  Palomar Mountain   \n",
       "63  0107-WESLM    Male   32      No                     0        West Point   \n",
       "64  0107-YHINA    Male   59      No                     0       Los Angeles   \n",
       "86  0137-OCGAB  Female   25      No                     0         Fairfield   \n",
       "\n",
       "    Zip Code   Latitude   Longitude  Number of Referrals  ...  \\\n",
       "19     95037  37.161544 -121.649371                    0  ...   \n",
       "25     92060  33.309852 -116.823091                    1  ...   \n",
       "63     95255  38.419350 -120.469545                    0  ...   \n",
       "64     90062  34.003553 -118.308933                    0  ...   \n",
       "86     94533  38.287136 -122.027110                    0  ...   \n",
       "\n",
       "     Payment Method Monthly Charge Total Charges  Total Refunds  \\\n",
       "19  Bank Withdrawal          25.10         25.10            0.0   \n",
       "25  Bank Withdrawal          30.50         30.50            0.0   \n",
       "63  Bank Withdrawal          19.85         19.85            0.0   \n",
       "64  Bank Withdrawal          99.75         99.75            0.0   \n",
       "86     Mailed Check          80.20         80.20            0.0   \n",
       "\n",
       "   Total Extra Data Charges Total Long Distance Charges Total Revenue  \\\n",
       "19                        0                        0.00         25.10   \n",
       "25                        0                        0.00         30.50   \n",
       "63                        0                       31.77         51.62   \n",
       "64                        0                       40.71        140.46   \n",
       "86                        0                        1.23         81.43   \n",
       "\n",
       "    Customer Status Churn Category                              Churn Reason  \n",
       "19          Churned     Competitor              Competitor made better offer  \n",
       "25          Churned       Attitude              Attitude of service provider  \n",
       "63          Churned       Attitude                Attitude of support person  \n",
       "64          Churned     Competitor             Competitor had better devices  \n",
       "86          Churned          Price  Lack of affordable download/upload speed  \n",
       "\n",
       "[5 rows x 38 columns]"
      ]
     },
     "execution_count": 177,
     "metadata": {},
     "output_type": "execute_result"
    }
   ],
   "source": [
    "Churned_customers_last_month_df = churn_df[(churn_df['Customer Status'] == 'Churned') & (churn_df['Tenure in Months'] < 2)]\n",
    "Churned_customers_last_month_df.head()"
   ]
  },
  {
   "cell_type": "markdown",
   "id": "a4270194",
   "metadata": {},
   "source": [
    " "
   ]
  },
  {
   "cell_type": "markdown",
   "id": "e32cd454",
   "metadata": {},
   "source": [
    "Сначала оценим причины, по которым они ушли:"
   ]
  },
  {
   "cell_type": "code",
   "execution_count": 159,
   "id": "b83bc64a",
   "metadata": {},
   "outputs": [
    {
     "data": {
      "text/html": [
       "<div>\n",
       "<style scoped>\n",
       "    .dataframe tbody tr th:only-of-type {\n",
       "        vertical-align: middle;\n",
       "    }\n",
       "\n",
       "    .dataframe tbody tr th {\n",
       "        vertical-align: top;\n",
       "    }\n",
       "\n",
       "    .dataframe thead th {\n",
       "        text-align: right;\n",
       "    }\n",
       "</style>\n",
       "<table border=\"1\" class=\"dataframe\">\n",
       "  <thead>\n",
       "    <tr style=\"text-align: right;\">\n",
       "      <th></th>\n",
       "      <th>Age</th>\n",
       "    </tr>\n",
       "    <tr>\n",
       "      <th>Churn Category</th>\n",
       "      <th></th>\n",
       "    </tr>\n",
       "  </thead>\n",
       "  <tbody>\n",
       "    <tr>\n",
       "      <th>Attitude</th>\n",
       "      <td>72</td>\n",
       "    </tr>\n",
       "    <tr>\n",
       "      <th>Competitor</th>\n",
       "      <td>163</td>\n",
       "    </tr>\n",
       "    <tr>\n",
       "      <th>Dissatisfaction</th>\n",
       "      <td>65</td>\n",
       "    </tr>\n",
       "    <tr>\n",
       "      <th>Other</th>\n",
       "      <td>33</td>\n",
       "    </tr>\n",
       "    <tr>\n",
       "      <th>Price</th>\n",
       "      <td>47</td>\n",
       "    </tr>\n",
       "  </tbody>\n",
       "</table>\n",
       "</div>"
      ],
      "text/plain": [
       "                 Age\n",
       "Churn Category      \n",
       "Attitude          72\n",
       "Competitor       163\n",
       "Dissatisfaction   65\n",
       "Other             33\n",
       "Price             47"
      ]
     },
     "execution_count": 159,
     "metadata": {},
     "output_type": "execute_result"
    }
   ],
   "source": [
    "Churned_customers_last_month_df \\\n",
    "    .groupby('Churn Category') \\\n",
    "    .agg({'Age': 'count'})"
   ]
  },
  {
   "cell_type": "markdown",
   "id": "5ee2017e",
   "metadata": {},
   "source": [
    "Почти половина из этих клиентов ушла к конкурентам.\n",
    "Посмотрим, какие причины там указаны:"
   ]
  },
  {
   "cell_type": "code",
   "execution_count": 160,
   "id": "082f7fc4",
   "metadata": {},
   "outputs": [
    {
     "data": {
      "text/html": [
       "<div>\n",
       "<style scoped>\n",
       "    .dataframe tbody tr th:only-of-type {\n",
       "        vertical-align: middle;\n",
       "    }\n",
       "\n",
       "    .dataframe tbody tr th {\n",
       "        vertical-align: top;\n",
       "    }\n",
       "\n",
       "    .dataframe thead th {\n",
       "        text-align: right;\n",
       "    }\n",
       "</style>\n",
       "<table border=\"1\" class=\"dataframe\">\n",
       "  <thead>\n",
       "    <tr style=\"text-align: right;\">\n",
       "      <th></th>\n",
       "      <th>Age</th>\n",
       "    </tr>\n",
       "    <tr>\n",
       "      <th>Churn Reason</th>\n",
       "      <th></th>\n",
       "    </tr>\n",
       "  </thead>\n",
       "  <tbody>\n",
       "    <tr>\n",
       "      <th>Competitor had better devices</th>\n",
       "      <td>67</td>\n",
       "    </tr>\n",
       "    <tr>\n",
       "      <th>Competitor made better offer</th>\n",
       "      <td>69</td>\n",
       "    </tr>\n",
       "    <tr>\n",
       "      <th>Competitor offered higher download speeds</th>\n",
       "      <td>15</td>\n",
       "    </tr>\n",
       "    <tr>\n",
       "      <th>Competitor offered more data</th>\n",
       "      <td>12</td>\n",
       "    </tr>\n",
       "  </tbody>\n",
       "</table>\n",
       "</div>"
      ],
      "text/plain": [
       "                                           Age\n",
       "Churn Reason                                  \n",
       "Competitor had better devices               67\n",
       "Competitor made better offer                69\n",
       "Competitor offered higher download speeds   15\n",
       "Competitor offered more data                12"
      ]
     },
     "execution_count": 160,
     "metadata": {},
     "output_type": "execute_result"
    }
   ],
   "source": [
    "Churned_to_competitor_customers_df = Churned_customers_last_month_df[Churned_customers_last_month_df['Churn Category'] == 'Competitor']\n",
    "Churned_to_competitor_customers_df \\\n",
    "    .groupby('Churn Reason') \\\n",
    "    .agg({'Age': 'count'})"
   ]
  },
  {
   "cell_type": "markdown",
   "id": "07ffa590",
   "metadata": {},
   "source": [
    "Все довольно наглядно: конкуренты имеют лучше девайсы или же лучше предложение.\n",
    "\n",
    "И это важный пункт, т.к. это клиенты, которые ушли спустя месяц. Это самое время, когда клиент еще не лоялен и также продолжает изучать конкурентов. Значит, здесь есть слабое место и необходимо оценить, в чем именно оно заключается."
   ]
  },
  {
   "cell_type": "markdown",
   "id": "8768ed04",
   "metadata": {},
   "source": [
    " "
   ]
  },
  {
   "cell_type": "markdown",
   "id": "3411b2aa",
   "metadata": {},
   "source": [
    "Также хочется посмотреть еще две категории - Attitude и Dissatisfaction:"
   ]
  },
  {
   "cell_type": "code",
   "execution_count": 161,
   "id": "b32b4f5a",
   "metadata": {},
   "outputs": [
    {
     "data": {
      "text/html": [
       "<div>\n",
       "<style scoped>\n",
       "    .dataframe tbody tr th:only-of-type {\n",
       "        vertical-align: middle;\n",
       "    }\n",
       "\n",
       "    .dataframe tbody tr th {\n",
       "        vertical-align: top;\n",
       "    }\n",
       "\n",
       "    .dataframe thead th {\n",
       "        text-align: right;\n",
       "    }\n",
       "</style>\n",
       "<table border=\"1\" class=\"dataframe\">\n",
       "  <thead>\n",
       "    <tr style=\"text-align: right;\">\n",
       "      <th></th>\n",
       "      <th>Age</th>\n",
       "    </tr>\n",
       "    <tr>\n",
       "      <th>Churn Reason</th>\n",
       "      <th></th>\n",
       "    </tr>\n",
       "  </thead>\n",
       "  <tbody>\n",
       "    <tr>\n",
       "      <th>Attitude of service provider</th>\n",
       "      <td>26</td>\n",
       "    </tr>\n",
       "    <tr>\n",
       "      <th>Attitude of support person</th>\n",
       "      <td>46</td>\n",
       "    </tr>\n",
       "  </tbody>\n",
       "</table>\n",
       "</div>"
      ],
      "text/plain": [
       "                              Age\n",
       "Churn Reason                     \n",
       "Attitude of service provider   26\n",
       "Attitude of support person     46"
      ]
     },
     "execution_count": 161,
     "metadata": {},
     "output_type": "execute_result"
    }
   ],
   "source": [
    "Churned_of_attitude_customers_df = Churned_customers_last_month_df[Churned_customers_last_month_df['Churn Category'] == 'Attitude']\n",
    "Churned_of_attitude_customers_df \\\n",
    "    .groupby('Churn Reason') \\\n",
    "    .agg({'Age': 'count'})"
   ]
  },
  {
   "cell_type": "markdown",
   "id": "9c80db12",
   "metadata": {},
   "source": [
    "Здесь нужно поработать над работой тех. поддержки. Это поможет перевести клиентов в лояльный сегмент."
   ]
  },
  {
   "cell_type": "markdown",
   "id": "5fe30630",
   "metadata": {},
   "source": [
    " "
   ]
  },
  {
   "cell_type": "code",
   "execution_count": 162,
   "id": "3677175b",
   "metadata": {},
   "outputs": [
    {
     "data": {
      "text/html": [
       "<div>\n",
       "<style scoped>\n",
       "    .dataframe tbody tr th:only-of-type {\n",
       "        vertical-align: middle;\n",
       "    }\n",
       "\n",
       "    .dataframe tbody tr th {\n",
       "        vertical-align: top;\n",
       "    }\n",
       "\n",
       "    .dataframe thead th {\n",
       "        text-align: right;\n",
       "    }\n",
       "</style>\n",
       "<table border=\"1\" class=\"dataframe\">\n",
       "  <thead>\n",
       "    <tr style=\"text-align: right;\">\n",
       "      <th></th>\n",
       "      <th>Age</th>\n",
       "    </tr>\n",
       "    <tr>\n",
       "      <th>Churn Reason</th>\n",
       "      <th></th>\n",
       "    </tr>\n",
       "  </thead>\n",
       "  <tbody>\n",
       "    <tr>\n",
       "      <th>Lack of self-service on Website</th>\n",
       "      <td>6</td>\n",
       "    </tr>\n",
       "    <tr>\n",
       "      <th>Limited range of services</th>\n",
       "      <td>7</td>\n",
       "    </tr>\n",
       "    <tr>\n",
       "      <th>Network reliability</th>\n",
       "      <td>15</td>\n",
       "    </tr>\n",
       "    <tr>\n",
       "      <th>Poor expertise of online support</th>\n",
       "      <td>6</td>\n",
       "    </tr>\n",
       "    <tr>\n",
       "      <th>Poor expertise of phone support</th>\n",
       "      <td>5</td>\n",
       "    </tr>\n",
       "    <tr>\n",
       "      <th>Product dissatisfaction</th>\n",
       "      <td>11</td>\n",
       "    </tr>\n",
       "    <tr>\n",
       "      <th>Service dissatisfaction</th>\n",
       "      <td>15</td>\n",
       "    </tr>\n",
       "  </tbody>\n",
       "</table>\n",
       "</div>"
      ],
      "text/plain": [
       "                                  Age\n",
       "Churn Reason                         \n",
       "Lack of self-service on Website     6\n",
       "Limited range of services           7\n",
       "Network reliability                15\n",
       "Poor expertise of online support    6\n",
       "Poor expertise of phone support     5\n",
       "Product dissatisfaction            11\n",
       "Service dissatisfaction            15"
      ]
     },
     "execution_count": 162,
     "metadata": {},
     "output_type": "execute_result"
    }
   ],
   "source": [
    "Churned_of_dissatisfaction_customers_df = Churned_customers_last_month_df[Churned_customers_last_month_df['Churn Category'] == 'Dissatisfaction']\n",
    "Churned_of_dissatisfaction_customers_df \\\n",
    "    .groupby('Churn Reason') \\\n",
    "    .agg({'Age': 'count'})"
   ]
  },
  {
   "cell_type": "markdown",
   "id": "ebcb7316",
   "metadata": {},
   "source": [
    "Тут нет чего-то, что сильно бы выделялось. Но т.к. здесь также присутствуют вопросы работы поддержки, то над ними нужно поработать."
   ]
  },
  {
   "cell_type": "markdown",
   "id": "a8be26e0",
   "metadata": {},
   "source": [
    " "
   ]
  },
  {
   "cell_type": "markdown",
   "id": "a069d956",
   "metadata": {},
   "source": [
    "5) Последнее принятое маркетинговое предложение"
   ]
  },
  {
   "cell_type": "code",
   "execution_count": 163,
   "id": "72442998",
   "metadata": {},
   "outputs": [
    {
     "data": {
      "text/html": [
       "<div>\n",
       "<style scoped>\n",
       "    .dataframe tbody tr th:only-of-type {\n",
       "        vertical-align: middle;\n",
       "    }\n",
       "\n",
       "    .dataframe tbody tr th {\n",
       "        vertical-align: top;\n",
       "    }\n",
       "\n",
       "    .dataframe thead th {\n",
       "        text-align: right;\n",
       "    }\n",
       "</style>\n",
       "<table border=\"1\" class=\"dataframe\">\n",
       "  <thead>\n",
       "    <tr style=\"text-align: right;\">\n",
       "      <th>Customer Status</th>\n",
       "      <th>Churned</th>\n",
       "      <th>Joined</th>\n",
       "      <th>Stayed</th>\n",
       "    </tr>\n",
       "    <tr>\n",
       "      <th>Offer</th>\n",
       "      <th></th>\n",
       "      <th></th>\n",
       "      <th></th>\n",
       "    </tr>\n",
       "  </thead>\n",
       "  <tbody>\n",
       "    <tr>\n",
       "      <th>None</th>\n",
       "      <td>1051.0</td>\n",
       "      <td>279.0</td>\n",
       "      <td>2547.0</td>\n",
       "    </tr>\n",
       "    <tr>\n",
       "      <th>Offer A</th>\n",
       "      <td>35.0</td>\n",
       "      <td>0.0</td>\n",
       "      <td>485.0</td>\n",
       "    </tr>\n",
       "    <tr>\n",
       "      <th>Offer B</th>\n",
       "      <td>101.0</td>\n",
       "      <td>0.0</td>\n",
       "      <td>723.0</td>\n",
       "    </tr>\n",
       "    <tr>\n",
       "      <th>Offer C</th>\n",
       "      <td>95.0</td>\n",
       "      <td>0.0</td>\n",
       "      <td>320.0</td>\n",
       "    </tr>\n",
       "    <tr>\n",
       "      <th>Offer D</th>\n",
       "      <td>161.0</td>\n",
       "      <td>0.0</td>\n",
       "      <td>441.0</td>\n",
       "    </tr>\n",
       "    <tr>\n",
       "      <th>Offer E</th>\n",
       "      <td>426.0</td>\n",
       "      <td>175.0</td>\n",
       "      <td>204.0</td>\n",
       "    </tr>\n",
       "  </tbody>\n",
       "</table>\n",
       "</div>"
      ],
      "text/plain": [
       "Customer Status  Churned  Joined  Stayed\n",
       "Offer                                   \n",
       "None              1051.0   279.0  2547.0\n",
       "Offer A             35.0     0.0   485.0\n",
       "Offer B            101.0     0.0   723.0\n",
       "Offer C             95.0     0.0   320.0\n",
       "Offer D            161.0     0.0   441.0\n",
       "Offer E            426.0   175.0   204.0"
      ]
     },
     "execution_count": 163,
     "metadata": {},
     "output_type": "execute_result"
    }
   ],
   "source": [
    "customers_by_offer_df = churn_df \\\n",
    "    .groupby(['Customer Status', 'Offer'], as_index=False) \\\n",
    "    .agg({'Age': 'count'}) \\\n",
    "    .pivot(index='Offer', columns='Customer Status', values='Age') \\\n",
    "    .fillna(0)\n",
    "customers_by_offer_df"
   ]
  },
  {
   "cell_type": "markdown",
   "id": "450996bf",
   "metadata": {},
   "source": [
    "Видно, что недавно присоединившиеся пользователи получали только *Offer E*, значит сейчас это единственное предложение.\n",
    "Также это видно и по оставшимся клиентам, которые присоединялись, в основном, давно и по другим предложениям.\n",
    "\n",
    "Тут нужно проверить гипотезу, что предложение не совсем удачное. Нужно посмотреть на ушедших клиентов, особенно тех, кто подключился в последний месяц, т.к. они уходят к конкурентам, и одна из причин - у конкурентов лучше предложение."
   ]
  },
  {
   "cell_type": "code",
   "execution_count": 164,
   "id": "4d98ccad",
   "metadata": {},
   "outputs": [
    {
     "data": {
      "text/html": [
       "<div>\n",
       "<style scoped>\n",
       "    .dataframe tbody tr th:only-of-type {\n",
       "        vertical-align: middle;\n",
       "    }\n",
       "\n",
       "    .dataframe tbody tr th {\n",
       "        vertical-align: top;\n",
       "    }\n",
       "\n",
       "    .dataframe thead th {\n",
       "        text-align: right;\n",
       "    }\n",
       "</style>\n",
       "<table border=\"1\" class=\"dataframe\">\n",
       "  <thead>\n",
       "    <tr style=\"text-align: right;\">\n",
       "      <th></th>\n",
       "      <th>Age</th>\n",
       "    </tr>\n",
       "    <tr>\n",
       "      <th>Offer</th>\n",
       "      <th></th>\n",
       "    </tr>\n",
       "  </thead>\n",
       "  <tbody>\n",
       "    <tr>\n",
       "      <th>None</th>\n",
       "      <td>202</td>\n",
       "    </tr>\n",
       "    <tr>\n",
       "      <th>Offer E</th>\n",
       "      <td>178</td>\n",
       "    </tr>\n",
       "  </tbody>\n",
       "</table>\n",
       "</div>"
      ],
      "text/plain": [
       "         Age\n",
       "Offer       \n",
       "None     202\n",
       "Offer E  178"
      ]
     },
     "execution_count": 164,
     "metadata": {},
     "output_type": "execute_result"
    }
   ],
   "source": [
    "Churned_customers_last_month_df \\\n",
    "    .groupby('Offer') \\\n",
    "    .agg({'Age': 'count'})"
   ]
  },
  {
   "cell_type": "markdown",
   "id": "68935b3a",
   "metadata": {},
   "source": [
    "Гипотезу подтвердить не можем, т.к. много клиентов, которые вообще не получали оффер."
   ]
  },
  {
   "cell_type": "markdown",
   "id": "19e3b92b",
   "metadata": {},
   "source": [
    " "
   ]
  },
  {
   "cell_type": "markdown",
   "id": "1f6cb911",
   "metadata": {},
   "source": [
    "6) Клиенты по типу контракта"
   ]
  },
  {
   "cell_type": "code",
   "execution_count": 165,
   "id": "007b5b23",
   "metadata": {},
   "outputs": [
    {
     "data": {
      "text/html": [
       "<div>\n",
       "<style scoped>\n",
       "    .dataframe tbody tr th:only-of-type {\n",
       "        vertical-align: middle;\n",
       "    }\n",
       "\n",
       "    .dataframe tbody tr th {\n",
       "        vertical-align: top;\n",
       "    }\n",
       "\n",
       "    .dataframe thead th {\n",
       "        text-align: right;\n",
       "    }\n",
       "</style>\n",
       "<table border=\"1\" class=\"dataframe\">\n",
       "  <thead>\n",
       "    <tr style=\"text-align: right;\">\n",
       "      <th>Contract</th>\n",
       "      <th>Month-to-Month</th>\n",
       "      <th>One Year</th>\n",
       "      <th>Two Year</th>\n",
       "    </tr>\n",
       "    <tr>\n",
       "      <th>Customer Status</th>\n",
       "      <th></th>\n",
       "      <th></th>\n",
       "      <th></th>\n",
       "    </tr>\n",
       "  </thead>\n",
       "  <tbody>\n",
       "    <tr>\n",
       "      <th>Churned</th>\n",
       "      <td>1655</td>\n",
       "      <td>166</td>\n",
       "      <td>48</td>\n",
       "    </tr>\n",
       "    <tr>\n",
       "      <th>Joined</th>\n",
       "      <td>408</td>\n",
       "      <td>24</td>\n",
       "      <td>22</td>\n",
       "    </tr>\n",
       "    <tr>\n",
       "      <th>Stayed</th>\n",
       "      <td>1547</td>\n",
       "      <td>1360</td>\n",
       "      <td>1813</td>\n",
       "    </tr>\n",
       "  </tbody>\n",
       "</table>\n",
       "</div>"
      ],
      "text/plain": [
       "Contract         Month-to-Month  One Year  Two Year\n",
       "Customer Status                                    \n",
       "Churned                    1655       166        48\n",
       "Joined                      408        24        22\n",
       "Stayed                     1547      1360      1813"
      ]
     },
     "execution_count": 165,
     "metadata": {},
     "output_type": "execute_result"
    }
   ],
   "source": [
    "customers_by_contract_df = churn_df \\\n",
    "    .groupby(['Customer Status', 'Contract'], as_index=False) \\\n",
    "    .agg({'Age': 'count'}) \\\n",
    "    .pivot(index='Customer Status', columns='Contract', values='Age')\n",
    "customers_by_contract_df"
   ]
  },
  {
   "cell_type": "markdown",
   "id": "43370dd7",
   "metadata": {},
   "source": [
    "Главный момент - ушедшие клиенты практически не заключают долгосрочные контракты. И здесь важно понять: их не устривают условия месячных контрактов или долгосрочных?"
   ]
  },
  {
   "cell_type": "code",
   "execution_count": 166,
   "id": "d0ee61a0",
   "metadata": {},
   "outputs": [
    {
     "data": {
      "text/html": [
       "<div>\n",
       "<style scoped>\n",
       "    .dataframe tbody tr th:only-of-type {\n",
       "        vertical-align: middle;\n",
       "    }\n",
       "\n",
       "    .dataframe tbody tr th {\n",
       "        vertical-align: top;\n",
       "    }\n",
       "\n",
       "    .dataframe thead th {\n",
       "        text-align: right;\n",
       "    }\n",
       "</style>\n",
       "<table border=\"1\" class=\"dataframe\">\n",
       "  <thead>\n",
       "    <tr style=\"text-align: right;\">\n",
       "      <th></th>\n",
       "      <th>Age</th>\n",
       "    </tr>\n",
       "    <tr>\n",
       "      <th>Churn Category</th>\n",
       "      <th></th>\n",
       "    </tr>\n",
       "  </thead>\n",
       "  <tbody>\n",
       "    <tr>\n",
       "      <th>Attitude</th>\n",
       "      <td>284</td>\n",
       "    </tr>\n",
       "    <tr>\n",
       "      <th>Competitor</th>\n",
       "      <td>748</td>\n",
       "    </tr>\n",
       "    <tr>\n",
       "      <th>Dissatisfaction</th>\n",
       "      <td>282</td>\n",
       "    </tr>\n",
       "    <tr>\n",
       "      <th>Other</th>\n",
       "      <td>159</td>\n",
       "    </tr>\n",
       "    <tr>\n",
       "      <th>Price</th>\n",
       "      <td>182</td>\n",
       "    </tr>\n",
       "  </tbody>\n",
       "</table>\n",
       "</div>"
      ],
      "text/plain": [
       "                 Age\n",
       "Churn Category      \n",
       "Attitude         284\n",
       "Competitor       748\n",
       "Dissatisfaction  282\n",
       "Other            159\n",
       "Price            182"
      ]
     },
     "execution_count": 166,
     "metadata": {},
     "output_type": "execute_result"
    }
   ],
   "source": [
    "churned_month_to_month_contract_customers_df = churn_df[(churn_df['Customer Status'] == 'Churned') & (churn_df['Contract'] == 'Month-to-Month')]\n",
    "churned_month_to_month_contract_customers_df \\\n",
    "    .groupby('Churn Category') \\\n",
    "    .agg({'Age': 'count'})"
   ]
  },
  {
   "cell_type": "markdown",
   "id": "954e79c8",
   "metadata": {},
   "source": [
    "Почти половина ушедших клиентов на месячных контрактах выбрала условия конкурента, значит они, действительно, лучше.\n",
    "Т.к. эти клиенты все же заключили месячные контракты, но не стали заключать долгосрочные, предположим, что условия конкурентов лучше именно по долгосрочным контрактам."
   ]
  },
  {
   "cell_type": "markdown",
   "id": "2a040499",
   "metadata": {},
   "source": [
    " "
   ]
  },
  {
   "cell_type": "markdown",
   "id": "00f26aa8",
   "metadata": {},
   "source": [
    "7) Анализ ежемесячной платы"
   ]
  },
  {
   "cell_type": "code",
   "execution_count": 167,
   "id": "56397fae",
   "metadata": {},
   "outputs": [
    {
     "data": {
      "text/plain": [
       "<seaborn.axisgrid.FacetGrid at 0x1c864043040>"
      ]
     },
     "execution_count": 167,
     "metadata": {},
     "output_type": "execute_result"
    },
    {
     "data": {
      "image/png": "[encoded data removed]",
      "text/plain": [
       "<Figure size 360x360 with 1 Axes>"
      ]
     },
     "metadata": {
      "needs_background": "light"
     },
     "output_type": "display_data"
    }
   ],
   "source": [
    "sns.displot(data=churn_df, x=\"Monthly Charge\")"
   ]
  },
  {
   "cell_type": "markdown",
   "id": "afd8b236",
   "metadata": {},
   "source": [
    "Интересное распределение: 2 больших пика в районе 20, и далее нормальное распределение.\n",
    "Предположим, что это связано с тем, что есть услуги дешевле и дороже. Причем, которые дороже, связаны с неким накопительным эффектом - чем больше расход по услуге, тем выше плата."
   ]
  },
  {
   "cell_type": "code",
   "execution_count": 168,
   "id": "fbaa0502",
   "metadata": {},
   "outputs": [
    {
     "data": {
      "text/html": [
       "<div>\n",
       "<style scoped>\n",
       "    .dataframe tbody tr th:only-of-type {\n",
       "        vertical-align: middle;\n",
       "    }\n",
       "\n",
       "    .dataframe tbody tr th {\n",
       "        vertical-align: top;\n",
       "    }\n",
       "\n",
       "    .dataframe thead th {\n",
       "        text-align: right;\n",
       "    }\n",
       "</style>\n",
       "<table border=\"1\" class=\"dataframe\">\n",
       "  <thead>\n",
       "    <tr style=\"text-align: right;\">\n",
       "      <th></th>\n",
       "      <th>Internet Service</th>\n",
       "      <th>Monthly Charge</th>\n",
       "    </tr>\n",
       "  </thead>\n",
       "  <tbody>\n",
       "    <tr>\n",
       "      <th>0</th>\n",
       "      <td>No</td>\n",
       "      <td>20.613925</td>\n",
       "    </tr>\n",
       "    <tr>\n",
       "      <th>1</th>\n",
       "      <td>Yes</td>\n",
       "      <td>75.484992</td>\n",
       "    </tr>\n",
       "  </tbody>\n",
       "</table>\n",
       "</div>"
      ],
      "text/plain": [
       "  Internet Service  Monthly Charge\n",
       "0               No       20.613925\n",
       "1              Yes       75.484992"
      ]
     },
     "execution_count": 168,
     "metadata": {},
     "output_type": "execute_result"
    }
   ],
   "source": [
    "churn_df \\\n",
    "    .groupby('Internet Service', as_index=False) \\\n",
    "    .agg({'Monthly Charge': 'mean'})"
   ]
  },
  {
   "cell_type": "markdown",
   "id": "66e11bd0",
   "metadata": {},
   "source": [
    "Здесь гипотеза подтверждается: средняя плата без подключения интернета 20,61, с интернетом - 75,48."
   ]
  },
  {
   "cell_type": "markdown",
   "id": "1ed6fc9d",
   "metadata": {},
   "source": [
    "Разделим эти категории клиентов и посмотрим, есть ли какие-то тенденции по ушедшим клиентам:"
   ]
  },
  {
   "cell_type": "code",
   "execution_count": 169,
   "id": "b9016f3f",
   "metadata": {},
   "outputs": [],
   "source": [
    "no_internet_service_df = churn_df[churn_df['Internet Service'] == 'No']\n",
    "with_internet_service_df = churn_df[churn_df['Internet Service'] == 'Yes']"
   ]
  },
  {
   "cell_type": "code",
   "execution_count": 170,
   "id": "94681335",
   "metadata": {},
   "outputs": [
    {
     "data": {
      "text/html": [
       "<div>\n",
       "<style scoped>\n",
       "    .dataframe tbody tr th:only-of-type {\n",
       "        vertical-align: middle;\n",
       "    }\n",
       "\n",
       "    .dataframe tbody tr th {\n",
       "        vertical-align: top;\n",
       "    }\n",
       "\n",
       "    .dataframe thead th {\n",
       "        text-align: right;\n",
       "    }\n",
       "</style>\n",
       "<table border=\"1\" class=\"dataframe\">\n",
       "  <thead>\n",
       "    <tr style=\"text-align: right;\">\n",
       "      <th>Internet Service</th>\n",
       "      <th>No</th>\n",
       "      <th>Yes</th>\n",
       "    </tr>\n",
       "    <tr>\n",
       "      <th>Customer Status</th>\n",
       "      <th></th>\n",
       "      <th></th>\n",
       "    </tr>\n",
       "  </thead>\n",
       "  <tbody>\n",
       "    <tr>\n",
       "      <th>Churned</th>\n",
       "      <td>113</td>\n",
       "      <td>1756</td>\n",
       "    </tr>\n",
       "    <tr>\n",
       "      <th>Joined</th>\n",
       "      <td>182</td>\n",
       "      <td>272</td>\n",
       "    </tr>\n",
       "    <tr>\n",
       "      <th>Stayed</th>\n",
       "      <td>1231</td>\n",
       "      <td>3489</td>\n",
       "    </tr>\n",
       "  </tbody>\n",
       "</table>\n",
       "</div>"
      ],
      "text/plain": [
       "Internet Service    No   Yes\n",
       "Customer Status             \n",
       "Churned            113  1756\n",
       "Joined             182   272\n",
       "Stayed            1231  3489"
      ]
     },
     "execution_count": 170,
     "metadata": {},
     "output_type": "execute_result"
    }
   ],
   "source": [
    "churn_df \\\n",
    "    .groupby(['Customer Status', 'Internet Service'], as_index=False) \\\n",
    "    .agg({'Age': 'count'}) \\\n",
    "    .pivot(index='Customer Status', columns='Internet Service', values='Age')"
   ]
  },
  {
   "cell_type": "markdown",
   "id": "a1a25bd9",
   "metadata": {},
   "source": [
    "Разница видна достаточно хорошо. Судя по всему, условия конкурентов по тарифам с интернетом лучше, поэтому клиенты склонны к уходу.\n",
    "Посмотрим данные по клиентам с интернетом:"
   ]
  },
  {
   "cell_type": "code",
   "execution_count": 171,
   "id": "6317a3a3",
   "metadata": {},
   "outputs": [
    {
     "data": {
      "text/html": [
       "<div>\n",
       "<style scoped>\n",
       "    .dataframe tbody tr th:only-of-type {\n",
       "        vertical-align: middle;\n",
       "    }\n",
       "\n",
       "    .dataframe tbody tr th {\n",
       "        vertical-align: top;\n",
       "    }\n",
       "\n",
       "    .dataframe thead th {\n",
       "        text-align: right;\n",
       "    }\n",
       "</style>\n",
       "<table border=\"1\" class=\"dataframe\">\n",
       "  <thead>\n",
       "    <tr style=\"text-align: right;\">\n",
       "      <th></th>\n",
       "      <th>Monthly Charge</th>\n",
       "    </tr>\n",
       "    <tr>\n",
       "      <th>Customer Status</th>\n",
       "      <th></th>\n",
       "    </tr>\n",
       "  </thead>\n",
       "  <tbody>\n",
       "    <tr>\n",
       "      <th>Churned</th>\n",
       "      <td>76.803303</td>\n",
       "    </tr>\n",
       "    <tr>\n",
       "      <th>Joined</th>\n",
       "      <td>58.092279</td>\n",
       "    </tr>\n",
       "    <tr>\n",
       "      <th>Stayed</th>\n",
       "      <td>76.177415</td>\n",
       "    </tr>\n",
       "  </tbody>\n",
       "</table>\n",
       "</div>"
      ],
      "text/plain": [
       "                 Monthly Charge\n",
       "Customer Status                \n",
       "Churned               76.803303\n",
       "Joined                58.092279\n",
       "Stayed                76.177415"
      ]
     },
     "execution_count": 171,
     "metadata": {},
     "output_type": "execute_result"
    }
   ],
   "source": [
    "with_internet_service_df \\\n",
    "    .groupby('Customer Status') \\\n",
    "    .agg({'Monthly Charge': 'mean'})"
   ]
  },
  {
   "cell_type": "markdown",
   "id": "9d206c22",
   "metadata": {},
   "source": [
    "Разницы между оставшимся и ушедшими клиентами нет. Значит кто-то согласен платить, а кто-то нет. Либо у кого-то есть возможность сменить компанию, а у кого-то нет. В общем, здесь причина лежит не в самой цене услуги, а включаются другие факторы."
   ]
  },
  {
   "cell_type": "markdown",
   "id": "138bd573",
   "metadata": {},
   "source": [
    "Посмотрим разбивку ушедших клиентов по причинам ухода:"
   ]
  },
  {
   "cell_type": "code",
   "execution_count": 172,
   "id": "8504d40e",
   "metadata": {},
   "outputs": [],
   "source": [
    "churned_customers_with_internet_service_df = with_internet_service_df[with_internet_service_df['Customer Status'] == 'Churned']"
   ]
  },
  {
   "cell_type": "code",
   "execution_count": 173,
   "id": "a3ff5b5a",
   "metadata": {},
   "outputs": [
    {
     "data": {
      "text/html": [
       "<div>\n",
       "<style scoped>\n",
       "    .dataframe tbody tr th:only-of-type {\n",
       "        vertical-align: middle;\n",
       "    }\n",
       "\n",
       "    .dataframe tbody tr th {\n",
       "        vertical-align: top;\n",
       "    }\n",
       "\n",
       "    .dataframe thead th {\n",
       "        text-align: right;\n",
       "    }\n",
       "</style>\n",
       "<table border=\"1\" class=\"dataframe\">\n",
       "  <thead>\n",
       "    <tr style=\"text-align: right;\">\n",
       "      <th></th>\n",
       "      <th>Monthly Charge</th>\n",
       "    </tr>\n",
       "    <tr>\n",
       "      <th>Churn Category</th>\n",
       "      <th></th>\n",
       "    </tr>\n",
       "  </thead>\n",
       "  <tbody>\n",
       "    <tr>\n",
       "      <th>Attitude</th>\n",
       "      <td>77.571507</td>\n",
       "    </tr>\n",
       "    <tr>\n",
       "      <th>Competitor</th>\n",
       "      <td>77.286508</td>\n",
       "    </tr>\n",
       "    <tr>\n",
       "      <th>Dissatisfaction</th>\n",
       "      <td>73.976923</td>\n",
       "    </tr>\n",
       "    <tr>\n",
       "      <th>Other</th>\n",
       "      <td>75.696369</td>\n",
       "    </tr>\n",
       "    <tr>\n",
       "      <th>Price</th>\n",
       "      <td>79.534770</td>\n",
       "    </tr>\n",
       "  </tbody>\n",
       "</table>\n",
       "</div>"
      ],
      "text/plain": [
       "                 Monthly Charge\n",
       "Churn Category                 \n",
       "Attitude              77.571507\n",
       "Competitor            77.286508\n",
       "Dissatisfaction       73.976923\n",
       "Other                 75.696369\n",
       "Price                 79.534770"
      ]
     },
     "execution_count": 173,
     "metadata": {},
     "output_type": "execute_result"
    }
   ],
   "source": [
    "churned_customers_with_internet_service_df \\\n",
    "    .groupby('Churn Category') \\\n",
    "    .agg({'Monthly Charge': 'mean'})"
   ]
  },
  {
   "cell_type": "markdown",
   "id": "ce238086",
   "metadata": {},
   "source": [
    "Здесь также сильной разницы нет."
   ]
  },
  {
   "cell_type": "code",
   "execution_count": 174,
   "id": "b65fa5e1",
   "metadata": {},
   "outputs": [
    {
     "data": {
      "text/html": [
       "<div>\n",
       "<style scoped>\n",
       "    .dataframe tbody tr th:only-of-type {\n",
       "        vertical-align: middle;\n",
       "    }\n",
       "\n",
       "    .dataframe tbody tr th {\n",
       "        vertical-align: top;\n",
       "    }\n",
       "\n",
       "    .dataframe thead th {\n",
       "        text-align: right;\n",
       "    }\n",
       "</style>\n",
       "<table border=\"1\" class=\"dataframe\">\n",
       "  <thead>\n",
       "    <tr style=\"text-align: right;\">\n",
       "      <th></th>\n",
       "      <th>Monthly Charge</th>\n",
       "    </tr>\n",
       "    <tr>\n",
       "      <th>Churn Category</th>\n",
       "      <th></th>\n",
       "    </tr>\n",
       "  </thead>\n",
       "  <tbody>\n",
       "    <tr>\n",
       "      <th>Attitude</th>\n",
       "      <td>272</td>\n",
       "    </tr>\n",
       "    <tr>\n",
       "      <th>Competitor</th>\n",
       "      <td>819</td>\n",
       "    </tr>\n",
       "    <tr>\n",
       "      <th>Dissatisfaction</th>\n",
       "      <td>312</td>\n",
       "    </tr>\n",
       "    <tr>\n",
       "      <th>Other</th>\n",
       "      <td>179</td>\n",
       "    </tr>\n",
       "    <tr>\n",
       "      <th>Price</th>\n",
       "      <td>174</td>\n",
       "    </tr>\n",
       "  </tbody>\n",
       "</table>\n",
       "</div>"
      ],
      "text/plain": [
       "                 Monthly Charge\n",
       "Churn Category                 \n",
       "Attitude                    272\n",
       "Competitor                  819\n",
       "Dissatisfaction             312\n",
       "Other                       179\n",
       "Price                       174"
      ]
     },
     "execution_count": 174,
     "metadata": {},
     "output_type": "execute_result"
    }
   ],
   "source": [
    "churned_customers_with_internet_service_df \\\n",
    "    .groupby('Churn Category') \\\n",
    "    .agg({'Monthly Charge': 'count'})"
   ]
  },
  {
   "cell_type": "markdown",
   "id": "2e41b531",
   "metadata": {},
   "source": [
    "Тут также основная причина - уход к конкурентам. Но только по нашим данным не удалось найти однозначный вывод, т.к. у конкурентов предложение лучше, и для этого уже нужно изучать данные рынка в целом."
   ]
  },
  {
   "cell_type": "markdown",
   "id": "9a155bab",
   "metadata": {},
   "source": [
    "Посмотрим, как распределены ушедшие клиенты с подключенным интернетом по городам:"
   ]
  },
  {
   "cell_type": "code",
   "execution_count": 175,
   "id": "773c33d6",
   "metadata": {},
   "outputs": [
    {
     "data": {
      "text/html": [
       "<div>\n",
       "<style scoped>\n",
       "    .dataframe tbody tr th:only-of-type {\n",
       "        vertical-align: middle;\n",
       "    }\n",
       "\n",
       "    .dataframe tbody tr th {\n",
       "        vertical-align: top;\n",
       "    }\n",
       "\n",
       "    .dataframe thead th {\n",
       "        text-align: right;\n",
       "    }\n",
       "</style>\n",
       "<table border=\"1\" class=\"dataframe\">\n",
       "  <thead>\n",
       "    <tr style=\"text-align: right;\">\n",
       "      <th></th>\n",
       "      <th>Age</th>\n",
       "      <th>Monthly Charge</th>\n",
       "    </tr>\n",
       "    <tr>\n",
       "      <th>City</th>\n",
       "      <th></th>\n",
       "      <th></th>\n",
       "    </tr>\n",
       "  </thead>\n",
       "  <tbody>\n",
       "    <tr>\n",
       "      <th>San Diego</th>\n",
       "      <td>174</td>\n",
       "      <td>76.324138</td>\n",
       "    </tr>\n",
       "    <tr>\n",
       "      <th>Los Angeles</th>\n",
       "      <td>75</td>\n",
       "      <td>75.678000</td>\n",
       "    </tr>\n",
       "    <tr>\n",
       "      <th>San Francisco</th>\n",
       "      <td>30</td>\n",
       "      <td>81.690000</td>\n",
       "    </tr>\n",
       "    <tr>\n",
       "      <th>San Jose</th>\n",
       "      <td>28</td>\n",
       "      <td>71.850000</td>\n",
       "    </tr>\n",
       "    <tr>\n",
       "      <th>Fallbrook</th>\n",
       "      <td>24</td>\n",
       "      <td>74.345833</td>\n",
       "    </tr>\n",
       "    <tr>\n",
       "      <th>Sacramento</th>\n",
       "      <td>23</td>\n",
       "      <td>79.480435</td>\n",
       "    </tr>\n",
       "    <tr>\n",
       "      <th>Temecula</th>\n",
       "      <td>22</td>\n",
       "      <td>81.184091</td>\n",
       "    </tr>\n",
       "    <tr>\n",
       "      <th>Escondido</th>\n",
       "      <td>16</td>\n",
       "      <td>80.090625</td>\n",
       "    </tr>\n",
       "    <tr>\n",
       "      <th>Long Beach</th>\n",
       "      <td>14</td>\n",
       "      <td>71.564286</td>\n",
       "    </tr>\n",
       "    <tr>\n",
       "      <th>Oakland</th>\n",
       "      <td>13</td>\n",
       "      <td>76.865385</td>\n",
       "    </tr>\n",
       "  </tbody>\n",
       "</table>\n",
       "</div>"
      ],
      "text/plain": [
       "               Age  Monthly Charge\n",
       "City                              \n",
       "San Diego      174       76.324138\n",
       "Los Angeles     75       75.678000\n",
       "San Francisco   30       81.690000\n",
       "San Jose        28       71.850000\n",
       "Fallbrook       24       74.345833\n",
       "Sacramento      23       79.480435\n",
       "Temecula        22       81.184091\n",
       "Escondido       16       80.090625\n",
       "Long Beach      14       71.564286\n",
       "Oakland         13       76.865385"
      ]
     },
     "execution_count": 175,
     "metadata": {},
     "output_type": "execute_result"
    }
   ],
   "source": [
    "churned_customers_with_internet_service_df \\\n",
    "    .groupby('City') \\\n",
    "    .agg({'Age': 'count', 'Monthly Charge': 'mean'}) \\\n",
    "    .sort_values('Age', ascending=False) \\\n",
    "    .head(10)"
   ]
  },
  {
   "cell_type": "markdown",
   "id": "4f06e783",
   "metadata": {},
   "source": [
    "И тут также нет однозначного тренда.\n",
    "Так что остановимся на выводе о более интересном предложении конкурентов, и, исходя из этого, наше предложение на данный момент находится не в рынке. Необходимо изучать внутренние ресурсы компании и оценить возможность делать рыночное предложение. Здесь также важный нюанс, что клиенты со статусом *Joined* имеют высокую долю вероятности стать *Churned*, т.к. тенденция ухода высока у клиентов, которые присоединились недавно."
   ]
  },
  {
   "cell_type": "markdown",
   "id": "695e662e",
   "metadata": {},
   "source": [
    "**5. Выводы**"
   ]
  },
  {
   "cell_type": "markdown",
   "id": "4dfbf013",
   "metadata": {},
   "source": [
    "Любой срез данных дает схожие выводы - предложение компании по услугам находятся не в рынке, и клиенты вынуждены выбирать конкурентов. Поэтому необходимо оценить рыночные условия и пересмотреть предложение.\n",
    "\n",
    "При этом ежемесячная плата схожая у ушедших и оставшихся клиентов. Вполне возможно, что предложение клиентов имеет преимущества не в цене, а в самих условиях. Возможно, что они предлагают больше и лучше за ту же цену.\n",
    "\n",
    "Также стоит обратить внимания на отдельные локации, в частности - Сан Диего. В данном городе ситуация выглядит плачевной, т.к. там уже потеряно 65% клиентов. Даже лучшать начать оттуда, там будет более наглядно заметна разница предложений на рынке, т.к. там уход клиентов принимает массовый характер."
   ]
  },
  {
   "cell_type": "code",
   "execution_count": null,
   "id": "811b5d6e",
   "metadata": {},
   "outputs": [],
   "source": []
  }
 ],
 "metadata": {
  "kernelspec": {
   "display_name": "Python 3 (ipykernel)",
   "language": "python",
   "name": "python3"
  },
  "language_info": {
   "codemirror_mode": {
    "name": "ipython",
    "version": 3
   },
   "file_extension": ".py",
   "mimetype": "text/x-python",
   "name": "python",
   "nbconvert_exporter": "python",
   "pygments_lexer": "ipython3",
   "version": "3.10.5"
  }
 },
 "nbformat": 4,
 "nbformat_minor": 5
}
